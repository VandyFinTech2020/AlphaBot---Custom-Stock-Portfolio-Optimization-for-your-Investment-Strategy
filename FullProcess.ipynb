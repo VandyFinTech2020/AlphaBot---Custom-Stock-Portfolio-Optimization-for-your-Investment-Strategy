{
 "cells": [
  {
   "cell_type": "code",
   "execution_count": 31,
   "metadata": {},
   "outputs": [],
   "source": [
    "# Import libraries and dependencies\n",
    "import numpy as np\n",
    "import pandas as pd\n",
    "import os\n",
    "import matplotlib.pyplot as plt\n",
    "import alpaca_trade_api as tradeapi\n",
    "from time import sleep\n",
    "\n",
    "%matplotlib inline"
   ]
  },
  {
   "cell_type": "code",
   "execution_count": 3,
   "metadata": {},
   "outputs": [],
   "source": [
    "# Set Alpaca API key and secret\n",
    "alpaca_api_key = os.getenv(\"ALPACA_API_KEY\")\n",
    "alpaca_secret_key = os.getenv(\"ALPACA_SECRET_KEY\")\n",
    "api = tradeapi.REST(alpaca_api_key, alpaca_secret_key, api_version='v2')"
   ]
  },
  {
   "cell_type": "code",
   "execution_count": 4,
   "metadata": {},
   "outputs": [],
   "source": [
    "# Get all Assets\n",
    "assets = api.list_assets()\n",
    "\n",
    "# Keep only tradeable assets\n",
    "tradeable = [asset for asset in assets if asset.tradable ]"
   ]
  },
  {
   "cell_type": "code",
   "execution_count": 42,
   "metadata": {},
   "outputs": [
    {
     "data": {
      "text/html": [
       "<div>\n",
       "<style scoped>\n",
       "    .dataframe tbody tr th:only-of-type {\n",
       "        vertical-align: middle;\n",
       "    }\n",
       "\n",
       "    .dataframe tbody tr th {\n",
       "        vertical-align: top;\n",
       "    }\n",
       "\n",
       "    .dataframe thead th {\n",
       "        text-align: right;\n",
       "    }\n",
       "</style>\n",
       "<table border=\"1\" class=\"dataframe\">\n",
       "  <thead>\n",
       "    <tr style=\"text-align: right;\">\n",
       "      <th></th>\n",
       "      <th>symbol</th>\n",
       "    </tr>\n",
       "  </thead>\n",
       "  <tbody>\n",
       "    <tr>\n",
       "      <th>0</th>\n",
       "      <td>ADTX</td>\n",
       "    </tr>\n",
       "    <tr>\n",
       "      <th>1</th>\n",
       "      <td>MNE</td>\n",
       "    </tr>\n",
       "    <tr>\n",
       "      <th>2</th>\n",
       "      <td>EQM</td>\n",
       "    </tr>\n",
       "    <tr>\n",
       "      <th>3</th>\n",
       "      <td>CHAQ</td>\n",
       "    </tr>\n",
       "    <tr>\n",
       "      <th>4</th>\n",
       "      <td>NUZE</td>\n",
       "    </tr>\n",
       "    <tr>\n",
       "      <th>5</th>\n",
       "      <td>PROG</td>\n",
       "    </tr>\n",
       "    <tr>\n",
       "      <th>6</th>\n",
       "      <td>GTH</td>\n",
       "    </tr>\n",
       "    <tr>\n",
       "      <th>7</th>\n",
       "      <td>CGRO</td>\n",
       "    </tr>\n",
       "    <tr>\n",
       "      <th>8</th>\n",
       "      <td>SPOT</td>\n",
       "    </tr>\n",
       "    <tr>\n",
       "      <th>9</th>\n",
       "      <td>DIS</td>\n",
       "    </tr>\n",
       "  </tbody>\n",
       "</table>\n",
       "</div>"
      ],
      "text/plain": [
       "  symbol\n",
       "0   ADTX\n",
       "1    MNE\n",
       "2    EQM\n",
       "3   CHAQ\n",
       "4   NUZE\n",
       "5   PROG\n",
       "6    GTH\n",
       "7   CGRO\n",
       "8   SPOT\n",
       "9    DIS"
      ]
     },
     "metadata": {},
     "output_type": "display_data"
    }
   ],
   "source": [
    "# Create a new empty DataFrame\n",
    "asset_info_df = pd.DataFrame()\n",
    "asset_info_df['symbol'] = pd.Series([asset.symbol for asset in assets])\n",
    "\n",
    "# Display the first 10 asset tickers\n",
    "display(asset_info_df.head(10))"
   ]
  },
  {
   "cell_type": "code",
   "execution_count": 6,
   "metadata": {},
   "outputs": [
    {
     "name": "stdout",
     "output_type": "stream",
     "text": [
      "symbol    9783\n",
      "dtype: int64\n"
     ]
    }
   ],
   "source": [
    "print(asset_info_df.count())"
   ]
  },
  {
   "cell_type": "code",
   "execution_count": 9,
   "metadata": {},
   "outputs": [
    {
     "name": "stdout",
     "output_type": "stream",
     "text": [
      "54.35\n"
     ]
    }
   ],
   "source": [
    "print(9783/180)"
   ]
  },
  {
   "cell_type": "code",
   "execution_count": 12,
   "metadata": {},
   "outputs": [],
   "source": [
    "asset_info = [asset.symbol for asset in assets]"
   ]
  },
  {
   "cell_type": "code",
   "execution_count": 43,
   "metadata": {},
   "outputs": [
    {
     "name": "stdout",
     "output_type": "stream",
     "text": [
      "ADTX\n",
      "     - Empty - Skip\n",
      "MNE\n",
      "EQM\n",
      "CHAQ\n",
      "NUZE\n",
      "PROG\n",
      "GTH\n",
      "CGRO\n",
      "     - Empty - Skip\n",
      "SPOT\n",
      "DIS\n",
      "RPTX\n",
      "NKLA\n",
      "NIO\n",
      "DKNG\n",
      "SHLL\n",
      "AAME\n",
      "ACIU\n",
      "MSFT\n",
      "ZM\n",
      "ACN\n",
      "ACOR\n"
     ]
    }
   ],
   "source": [
    "# Set timeframe to '1D'\n",
    "timeframe = '1D'\n",
    "start_date = pd.Timestamp(\"2018-07-01\", tz=\"America/New_York\").isoformat()\n",
    "end_date = pd.Timestamp(\"2020-06-23\", tz=\"America/New_York\").isoformat()\n",
    "\n",
    "stockprices = []\n",
    "\n",
    "i = 0\n",
    "for asset in asset_info:\n",
    "    print(asset)\n",
    "    df = api.get_barset(\n",
    "        asset,\n",
    "        timeframe,\n",
    "        limit=None,\n",
    "        start=start_date,\n",
    "        end=end_date,\n",
    "        after=None,\n",
    "        until=None,\n",
    "    ).df\n",
    "    # print(df)\n",
    "    if df.empty:\n",
    "        print(\"     - Empty - Skip\")\n",
    "    else:\n",
    "        stockprices.append(df)\n",
    "        # print(\"Length:\", len(stockprices))\n",
    "    i += 1\n",
    "    if i % 3 == 0:\n",
    "        sleep(1)\n",
    "        if i > 20:\n",
    "            break"
   ]
  },
  {
   "cell_type": "code",
   "execution_count": 44,
   "metadata": {},
   "outputs": [
    {
     "name": "stdout",
     "output_type": "stream",
     "text": [
      "19\n"
     ]
    }
   ],
   "source": [
    "print(len(stockprices))\n"
   ]
  },
  {
   "cell_type": "code",
   "execution_count": 45,
   "metadata": {},
   "outputs": [
    {
     "name": "stdout",
     "output_type": "stream",
     "text": [
      "                             MNE                                  \n",
      "                            open     high      low    close volume\n",
      "2018-07-02 00:00:00-04:00  12.61  12.7100  12.6100  12.6640   8736\n",
      "2018-07-03 00:00:00-04:00  12.65  12.7200  12.6500  12.7183   6476\n",
      "2018-07-05 00:00:00-04:00  12.73  12.7700  12.7000  12.7400   1653\n",
      "2018-07-06 00:00:00-04:00  12.71  12.7600  12.7100  12.7400   2310\n",
      "2018-07-09 00:00:00-04:00  12.74  12.7400  12.7001  12.7001   4575\n",
      "...                          ...      ...      ...      ...    ...\n",
      "2020-06-09 00:00:00-04:00  14.60  14.6000  14.5600  14.5600  11939\n",
      "2020-06-10 00:00:00-04:00  14.56  14.6100  14.5600  14.5700    800\n",
      "2020-06-11 00:00:00-04:00  14.66  14.6600  14.5700  14.5900   3570\n",
      "2020-06-12 00:00:00-04:00  14.66  14.6600  14.6330  14.6330   1396\n",
      "2020-06-15 00:00:00-04:00  14.61  14.6834  14.5500  14.5500  47540\n",
      "\n",
      "[486 rows x 5 columns]\n"
     ]
    }
   ],
   "source": [
    "print(stockprices[0])"
   ]
  },
  {
   "cell_type": "code",
   "execution_count": null,
   "metadata": {},
   "outputs": [],
   "source": []
  }
 ],
 "metadata": {
  "kernelspec": {
   "display_name": "Python 3.7 (FinTech)",
   "language": "python",
   "name": "fintech0618"
  },
  "language_info": {
   "codemirror_mode": {
    "name": "ipython",
    "version": 3
   },
   "file_extension": ".py",
   "mimetype": "text/x-python",
   "name": "python",
   "nbconvert_exporter": "python",
   "pygments_lexer": "ipython3",
   "version": "3.7.7"
  },
  "widgets": {
   "application/vnd.jupyter.widget-state+json": {
    "state": {},
    "version_major": 2,
    "version_minor": 0
   }
  }
 },
 "nbformat": 4,
 "nbformat_minor": 4
}
