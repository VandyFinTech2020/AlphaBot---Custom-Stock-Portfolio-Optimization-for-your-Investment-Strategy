{
 "cells": [
  {
   "cell_type": "code",
   "execution_count": 1,
   "metadata": {},
   "outputs": [],
   "source": [
    "import pandas as pd\n",
    "import numpy as np\n",
    "from pathlib import Path\n",
    "from datetime import date, datetime, timedelta\n",
    "import os\n",
    "from newsapi.newsapi_client import NewsApiClient\n",
    "import alpaca_trade_api as tradeapi"
   ]
  },
  {
   "cell_type": "code",
   "execution_count": 2,
   "metadata": {},
   "outputs": [],
   "source": [
    "import matplotlib.pyplot as plt"
   ]
  },
  {
   "cell_type": "code",
   "execution_count": 3,
   "metadata": {},
   "outputs": [],
   "source": [
    "# Set News API Key\n",
    "newsapi = NewsApiClient(api_key=os.getenv(\"NEWS_API_KEY\"))\n",
    "\n",
    "# Set Alpaca API key and secret\n",
    "alpaca_api_key = os.getenv(\"ALPACA_API_KEY_ID\")\n",
    "alpaca_secret_key = os.getenv(\"ALPACA_SECRET_KEY\")\n",
    "\n",
    "api = tradeapi.REST(alpaca_api_key, alpaca_secret_key, api_version='v2')"
   ]
  },
  {
   "cell_type": "code",
   "execution_count": 8,
   "metadata": {},
   "outputs": [
    {
     "data": {
      "text/html": [
       "<div>\n",
       "<style scoped>\n",
       "    .dataframe tbody tr th:only-of-type {\n",
       "        vertical-align: middle;\n",
       "    }\n",
       "\n",
       "    .dataframe tbody tr th {\n",
       "        vertical-align: top;\n",
       "    }\n",
       "\n",
       "    .dataframe thead th {\n",
       "        text-align: right;\n",
       "    }\n",
       "</style>\n",
       "<table border=\"1\" class=\"dataframe\">\n",
       "  <thead>\n",
       "    <tr style=\"text-align: right;\">\n",
       "      <th></th>\n",
       "      <th>AAPL</th>\n",
       "      <th>AMZN</th>\n",
       "      <th>GOOGL</th>\n",
       "      <th>NFLX</th>\n",
       "    </tr>\n",
       "    <tr>\n",
       "      <th>time</th>\n",
       "      <th></th>\n",
       "      <th></th>\n",
       "      <th></th>\n",
       "      <th></th>\n",
       "    </tr>\n",
       "  </thead>\n",
       "  <tbody>\n",
       "    <tr>\n",
       "      <th>2019-01-16 00:00:00-05:00</th>\n",
       "      <td>154.9100</td>\n",
       "      <td>1681.9703</td>\n",
       "      <td>1088.210</td>\n",
       "      <td>350.7639</td>\n",
       "    </tr>\n",
       "    <tr>\n",
       "      <th>2019-01-17 00:00:00-05:00</th>\n",
       "      <td>155.5300</td>\n",
       "      <td>1691.3700</td>\n",
       "      <td>1098.150</td>\n",
       "      <td>353.8200</td>\n",
       "    </tr>\n",
       "    <tr>\n",
       "      <th>2019-01-18 00:00:00-05:00</th>\n",
       "      <td>156.5700</td>\n",
       "      <td>1693.2421</td>\n",
       "      <td>1105.400</td>\n",
       "      <td>338.9200</td>\n",
       "    </tr>\n",
       "    <tr>\n",
       "      <th>2019-01-22 00:00:00-05:00</th>\n",
       "      <td>152.9300</td>\n",
       "      <td>1628.3980</td>\n",
       "      <td>1074.540</td>\n",
       "      <td>324.5401</td>\n",
       "    </tr>\n",
       "    <tr>\n",
       "      <th>2019-01-23 00:00:00-05:00</th>\n",
       "      <td>153.6799</td>\n",
       "      <td>1636.5500</td>\n",
       "      <td>1082.815</td>\n",
       "      <td>321.5900</td>\n",
       "    </tr>\n",
       "  </tbody>\n",
       "</table>\n",
       "</div>"
      ],
      "text/plain": [
       "                               AAPL       AMZN     GOOGL      NFLX\n",
       "time                                                              \n",
       "2019-01-16 00:00:00-05:00  154.9100  1681.9703  1088.210  350.7639\n",
       "2019-01-17 00:00:00-05:00  155.5300  1691.3700  1098.150  353.8200\n",
       "2019-01-18 00:00:00-05:00  156.5700  1693.2421  1105.400  338.9200\n",
       "2019-01-22 00:00:00-05:00  152.9300  1628.3980  1074.540  324.5401\n",
       "2019-01-23 00:00:00-05:00  153.6799  1636.5500  1082.815  321.5900"
      ]
     },
     "execution_count": 8,
     "metadata": {},
     "output_type": "execute_result"
    }
   ],
   "source": [
    "# TODO\n",
    "# Selecting the tickers can be a stand-alone function\n",
    "# Set the ticker\n",
    "tickers = [\"AAPL\", \"AMZN\", \"GOOGL\", \"NFLX\"]\n",
    "\n",
    "# Set timeframe to '1D'\n",
    "timeframe = '1D'\n",
    "\n",
    "# Get current date and the date from one month ago\n",
    "current_date = date.today()\n",
    "past_date = date.today() - timedelta(weeks=52)\n",
    "\n",
    "df = pd.DataFrame()\n",
    "\n",
    "# Get historical data for AAPL\n",
    "for tick in tickers:\n",
    "    tmp_df = api.get_barset(\n",
    "        tick,\n",
    "        timeframe,\n",
    "        limit=365,\n",
    "        start=current_date,\n",
    "        end=past_date,\n",
    "        after=None,\n",
    "        until=None,\n",
    "    ).df\n",
    "    tmp_df = tmp_df.droplevel(0, axis=1)\n",
    "    tmp_df.drop(columns=['open', 'high', 'low', 'volume'], inplace=True)\n",
    "    tmp_df.rename({'close': tick}, axis=1, inplace=True)\n",
    "    df = pd.concat([df, tmp_df], axis=1)\n",
    "\n",
    "df.head()"
   ]
  },
  {
   "cell_type": "code",
   "execution_count": 10,
   "metadata": {},
   "outputs": [],
   "source": [
    "df.index = df.index.date"
   ]
  },
  {
   "cell_type": "code",
   "execution_count": 11,
   "metadata": {},
   "outputs": [
    {
     "data": {
      "text/html": [
       "<div>\n",
       "<style scoped>\n",
       "    .dataframe tbody tr th:only-of-type {\n",
       "        vertical-align: middle;\n",
       "    }\n",
       "\n",
       "    .dataframe tbody tr th {\n",
       "        vertical-align: top;\n",
       "    }\n",
       "\n",
       "    .dataframe thead th {\n",
       "        text-align: right;\n",
       "    }\n",
       "</style>\n",
       "<table border=\"1\" class=\"dataframe\">\n",
       "  <thead>\n",
       "    <tr style=\"text-align: right;\">\n",
       "      <th></th>\n",
       "      <th>AAPL</th>\n",
       "      <th>AMZN</th>\n",
       "      <th>GOOGL</th>\n",
       "      <th>NFLX</th>\n",
       "    </tr>\n",
       "  </thead>\n",
       "  <tbody>\n",
       "    <tr>\n",
       "      <th>2020-06-22</th>\n",
       "      <td>358.93</td>\n",
       "      <td>2712.00</td>\n",
       "      <td>1450.44</td>\n",
       "      <td>468.0800</td>\n",
       "    </tr>\n",
       "    <tr>\n",
       "      <th>2020-06-23</th>\n",
       "      <td>366.37</td>\n",
       "      <td>2764.42</td>\n",
       "      <td>1464.18</td>\n",
       "      <td>465.9400</td>\n",
       "    </tr>\n",
       "    <tr>\n",
       "      <th>2020-06-24</th>\n",
       "      <td>360.06</td>\n",
       "      <td>2733.49</td>\n",
       "      <td>1432.17</td>\n",
       "      <td>457.6500</td>\n",
       "    </tr>\n",
       "    <tr>\n",
       "      <th>2020-06-25</th>\n",
       "      <td>364.88</td>\n",
       "      <td>2756.16</td>\n",
       "      <td>1441.15</td>\n",
       "      <td>466.1400</td>\n",
       "    </tr>\n",
       "    <tr>\n",
       "      <th>2020-06-26</th>\n",
       "      <td>359.41</td>\n",
       "      <td>2748.81</td>\n",
       "      <td>1394.89</td>\n",
       "      <td>452.6001</td>\n",
       "    </tr>\n",
       "  </tbody>\n",
       "</table>\n",
       "</div>"
      ],
      "text/plain": [
       "              AAPL     AMZN    GOOGL      NFLX\n",
       "2020-06-22  358.93  2712.00  1450.44  468.0800\n",
       "2020-06-23  366.37  2764.42  1464.18  465.9400\n",
       "2020-06-24  360.06  2733.49  1432.17  457.6500\n",
       "2020-06-25  364.88  2756.16  1441.15  466.1400\n",
       "2020-06-26  359.41  2748.81  1394.89  452.6001"
      ]
     },
     "execution_count": 11,
     "metadata": {},
     "output_type": "execute_result"
    }
   ],
   "source": [
    "df.tail()"
   ]
  },
  {
   "cell_type": "code",
   "execution_count": 12,
   "metadata": {},
   "outputs": [],
   "source": [
    "aapl_df = df.loc[:, 'AAPL'].to_frame()"
   ]
  },
  {
   "cell_type": "code",
   "execution_count": 13,
   "metadata": {},
   "outputs": [],
   "source": [
    "aapl_df['Shift'] = aapl_df['AAPL'].shift()"
   ]
  },
  {
   "cell_type": "code",
   "execution_count": 14,
   "metadata": {},
   "outputs": [],
   "source": [
    "aapl_df.dropna(inplace=True)"
   ]
  },
  {
   "cell_type": "code",
   "execution_count": 15,
   "metadata": {},
   "outputs": [
    {
     "data": {
      "text/html": [
       "<div>\n",
       "<style scoped>\n",
       "    .dataframe tbody tr th:only-of-type {\n",
       "        vertical-align: middle;\n",
       "    }\n",
       "\n",
       "    .dataframe tbody tr th {\n",
       "        vertical-align: top;\n",
       "    }\n",
       "\n",
       "    .dataframe thead th {\n",
       "        text-align: right;\n",
       "    }\n",
       "</style>\n",
       "<table border=\"1\" class=\"dataframe\">\n",
       "  <thead>\n",
       "    <tr style=\"text-align: right;\">\n",
       "      <th></th>\n",
       "      <th>AAPL</th>\n",
       "      <th>Shift</th>\n",
       "    </tr>\n",
       "  </thead>\n",
       "  <tbody>\n",
       "    <tr>\n",
       "      <th>2019-01-17</th>\n",
       "      <td>155.5300</td>\n",
       "      <td>154.9100</td>\n",
       "    </tr>\n",
       "    <tr>\n",
       "      <th>2019-01-18</th>\n",
       "      <td>156.5700</td>\n",
       "      <td>155.5300</td>\n",
       "    </tr>\n",
       "    <tr>\n",
       "      <th>2019-01-22</th>\n",
       "      <td>152.9300</td>\n",
       "      <td>156.5700</td>\n",
       "    </tr>\n",
       "    <tr>\n",
       "      <th>2019-01-23</th>\n",
       "      <td>153.6799</td>\n",
       "      <td>152.9300</td>\n",
       "    </tr>\n",
       "    <tr>\n",
       "      <th>2019-01-24</th>\n",
       "      <td>152.6300</td>\n",
       "      <td>153.6799</td>\n",
       "    </tr>\n",
       "  </tbody>\n",
       "</table>\n",
       "</div>"
      ],
      "text/plain": [
       "                AAPL     Shift\n",
       "2019-01-17  155.5300  154.9100\n",
       "2019-01-18  156.5700  155.5300\n",
       "2019-01-22  152.9300  156.5700\n",
       "2019-01-23  153.6799  152.9300\n",
       "2019-01-24  152.6300  153.6799"
      ]
     },
     "execution_count": 15,
     "metadata": {},
     "output_type": "execute_result"
    }
   ],
   "source": [
    "aapl_df.head()"
   ]
  },
  {
   "cell_type": "code",
   "execution_count": 16,
   "metadata": {},
   "outputs": [],
   "source": [
    "# X = aapl_df['AAPL'].copy()\n",
    "# y = aapl_df['Shift']"
   ]
  },
  {
   "cell_type": "code",
   "execution_count": 17,
   "metadata": {},
   "outputs": [],
   "source": [
    "X = aapl_df.AAPL.values.reshape(-1, 1)\n",
    "y = aapl_df.Shift.values.reshape(-1, 1)"
   ]
  },
  {
   "cell_type": "code",
   "execution_count": 18,
   "metadata": {},
   "outputs": [],
   "source": [
    "from sklearn.model_selection import train_test_split\n",
    "\n",
    "X_train, X_test, y_train, y_test = train_test_split(X, y, random_state=0, test_size=0.20)"
   ]
  },
  {
   "cell_type": "code",
   "execution_count": 20,
   "metadata": {},
   "outputs": [
    {
     "data": {
      "text/plain": [
       "array([<matplotlib.axes._subplots.AxesSubplot object at 0x7fea3b56cd90>],\n",
       "      dtype=object)"
      ]
     },
     "execution_count": 20,
     "metadata": {},
     "output_type": "execute_result"
    },
    {
     "data": {
      "image/png": "[encoded data removed]",
      "text/plain": [
       "<Figure size 432x288 with 1 Axes>"
      ]
     },
     "metadata": {
      "needs_background": "light"
     },
     "output_type": "display_data"
    }
   ],
   "source": [
    "aapl_df.AAPL.plot(subplots=True)"
   ]
  },
  {
   "cell_type": "code",
   "execution_count": null,
   "metadata": {},
   "outputs": [],
   "source": []
  }
 ],
 "metadata": {
  "kernelspec": {
   "display_name": "Python (Viz)",
   "language": "python",
   "name": "viz"
  },
  "language_info": {
   "codemirror_mode": {
    "name": "ipython",
    "version": 3
   },
   "file_extension": ".py",
   "mimetype": "text/x-python",
   "name": "python",
   "nbconvert_exporter": "python",
   "pygments_lexer": "ipython3",
   "version": "3.7.7"
  }
 },
 "nbformat": 4,
 "nbformat_minor": 4
}
