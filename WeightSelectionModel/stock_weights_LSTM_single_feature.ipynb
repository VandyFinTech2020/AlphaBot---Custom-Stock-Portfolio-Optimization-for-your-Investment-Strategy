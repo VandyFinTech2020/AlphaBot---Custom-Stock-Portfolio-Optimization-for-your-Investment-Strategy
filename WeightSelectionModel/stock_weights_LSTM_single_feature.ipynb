{
 "cells": [
  {
   "cell_type": "markdown",
   "metadata": {},
   "source": [
    "# Comparison of regression models in predicting next-day stock returns"
   ]
  },
  {
   "cell_type": "code",
   "execution_count": 789,
   "metadata": {},
   "outputs": [],
   "source": [
    "import pandas as pd\n",
    "import numpy as np\n",
    "from pathlib import Path\n",
    "from datetime import date, datetime, timedelta\n",
    "import os\n",
    "from newsapi.newsapi_client import NewsApiClient\n",
    "import alpaca_trade_api as tradeapi\n",
    "import matplotlib.pyplot as plt\n",
    "import hvplot.pandas\n",
    "from joblib import dump, load"
   ]
  },
  {
   "cell_type": "code",
   "execution_count": 790,
   "metadata": {},
   "outputs": [],
   "source": [
    "# Set News API Key\n",
    "newsapi = NewsApiClient(api_key=os.getenv(\"NEWS_API_KEY\"))\n",
    "\n",
    "# Set Alpaca API key and secret\n",
    "alpaca_api_key = os.getenv(\"ALPACA_API_KEY_ID\")\n",
    "alpaca_secret_key = os.getenv(\"ALPACA_SECRET_KEY\")\n",
    "\n",
    "api = tradeapi.REST(alpaca_api_key, alpaca_secret_key, api_version='v2')"
   ]
  },
  {
   "cell_type": "code",
   "execution_count": 791,
   "metadata": {},
   "outputs": [
    {
     "data": {
      "text/plain": [
       "1000"
      ]
     },
     "execution_count": 791,
     "metadata": {},
     "output_type": "execute_result"
    }
   ],
   "source": [
    "# TODO\n",
    "# Selecting the tickers can be a stand-alone function\n",
    "# Set the ticker\n",
    "tickers = [\"AAPL\", \"AMZN\", \"GOOGL\", \"NFLX\"]\n",
    "\n",
    "# Set timeframe to '1D'\n",
    "timeframe = '1D'\n",
    "\n",
    "# Get current date and the date from one month ago\n",
    "current_date = date.today()\n",
    "past_date = date.today() - timedelta(weeks=4)\n",
    "\n",
    "df = pd.DataFrame()\n",
    "\n",
    "# Get historical data for AAPL\n",
    "for tick in tickers:\n",
    "    tmp_df = api.get_barset(\n",
    "        tick,\n",
    "        timeframe,\n",
    "        limit=1000,\n",
    "        start=current_date,\n",
    "        end=past_date,\n",
    "        after=None,\n",
    "        until=None,\n",
    "    ).df\n",
    "    tmp_df = tmp_df.droplevel(0, axis=1)\n",
    "    tmp_df.drop(columns=['open', 'high', 'low', 'volume'], inplace=True)\n",
    "    tmp_df.rename({'close': tick}, axis=1, inplace=True)\n",
    "    df = pd.concat([df, tmp_df], axis=1)\n",
    "    \n",
    "df.index = df.index.date\n",
    "\n",
    "# df.head()\n",
    "len(df)"
   ]
  },
  {
   "cell_type": "code",
   "execution_count": 792,
   "metadata": {},
   "outputs": [
    {
     "name": "stdout",
     "output_type": "stream",
     "text": [
      "             AAPL    AMZN   GOOGL     NFLX\n",
      "2016-07-14  98.79  741.19  735.78  98.0200\n",
      "2016-07-15  98.76  735.43  735.64  98.3900\n",
      "2016-07-18  99.83  736.07  753.42  98.8037\n",
      "2016-07-19  99.87  740.06  753.41  85.8300\n",
      "2016-07-20  99.93  745.72  757.08  87.9200\n",
      "              AAPL     AMZN    GOOGL    NFLX\n",
      "2020-06-26  353.69  2692.87  1362.14  443.39\n",
      "2020-06-29  362.00  2681.52  1398.00  447.42\n",
      "2020-06-30  364.60  2756.09  1417.92  454.75\n",
      "2020-07-01  364.01  2879.20  1442.60  485.58\n",
      "2020-07-02  364.12  2887.56  1469.80  477.22\n"
     ]
    }
   ],
   "source": [
    "print(df.head())\n",
    "print(df.tail())"
   ]
  },
  {
   "cell_type": "markdown",
   "metadata": {},
   "source": [
    "### Create stock df"
   ]
  },
  {
   "cell_type": "code",
   "execution_count": 793,
   "metadata": {},
   "outputs": [],
   "source": [
    "stock_df = df['GOOGL'].to_frame()\n",
    "stock_df.index = pd.to_datetime(stock_df.index)\n",
    "stock_df.rename(columns={'GOOGL': 'close'}, inplace=True)\n",
    "stock_df.dropna(inplace=True)"
   ]
  },
  {
   "cell_type": "code",
   "execution_count": 794,
   "metadata": {},
   "outputs": [
    {
     "data": {
      "text/html": [
       "<div>\n",
       "<style scoped>\n",
       "    .dataframe tbody tr th:only-of-type {\n",
       "        vertical-align: middle;\n",
       "    }\n",
       "\n",
       "    .dataframe tbody tr th {\n",
       "        vertical-align: top;\n",
       "    }\n",
       "\n",
       "    .dataframe thead th {\n",
       "        text-align: right;\n",
       "    }\n",
       "</style>\n",
       "<table border=\"1\" class=\"dataframe\">\n",
       "  <thead>\n",
       "    <tr style=\"text-align: right;\">\n",
       "      <th></th>\n",
       "      <th>close</th>\n",
       "    </tr>\n",
       "  </thead>\n",
       "  <tbody>\n",
       "    <tr>\n",
       "      <th>2016-07-14</th>\n",
       "      <td>735.78</td>\n",
       "    </tr>\n",
       "    <tr>\n",
       "      <th>2016-07-15</th>\n",
       "      <td>735.64</td>\n",
       "    </tr>\n",
       "    <tr>\n",
       "      <th>2016-07-18</th>\n",
       "      <td>753.42</td>\n",
       "    </tr>\n",
       "    <tr>\n",
       "      <th>2016-07-19</th>\n",
       "      <td>753.41</td>\n",
       "    </tr>\n",
       "    <tr>\n",
       "      <th>2016-07-20</th>\n",
       "      <td>757.08</td>\n",
       "    </tr>\n",
       "  </tbody>\n",
       "</table>\n",
       "</div>"
      ],
      "text/plain": [
       "             close\n",
       "2016-07-14  735.78\n",
       "2016-07-15  735.64\n",
       "2016-07-18  753.42\n",
       "2016-07-19  753.41\n",
       "2016-07-20  757.08"
      ]
     },
     "execution_count": 794,
     "metadata": {},
     "output_type": "execute_result"
    }
   ],
   "source": [
    "stock_df.head()"
   ]
  },
  {
   "cell_type": "markdown",
   "metadata": {},
   "source": [
    "### Prep data for model fitting"
   ]
  },
  {
   "cell_type": "code",
   "execution_count": 795,
   "metadata": {},
   "outputs": [],
   "source": [
    "# Split data by time segments of size `window` days\n",
    "def window_data(stock_df, window, feature_col_num, target_col_num):\n",
    "    X = []\n",
    "    y = []\n",
    "    \n",
    "    for i in range(len(stock_df) - window):\n",
    "        X_comp = stock_df.iloc[i:(i+window), feature_col_num]\n",
    "        y_comp = stock_df.iloc[(i+window), target_col_num]\n",
    "        X.append(X_comp)\n",
    "        y.append(y_comp)\n",
    "    return np.array(X), np.array(y).reshape(-1, 1)"
   ]
  },
  {
   "cell_type": "code",
   "execution_count": 796,
   "metadata": {},
   "outputs": [],
   "source": [
    "window_size = 2\n",
    "X, y = window_data(stock_df, window_size, 0, 0)"
   ]
  },
  {
   "cell_type": "code",
   "execution_count": 797,
   "metadata": {},
   "outputs": [
    {
     "name": "stdout",
     "output_type": "stream",
     "text": [
      "[735.78 735.64]\n",
      "[753.42]\n"
     ]
    }
   ],
   "source": [
    "print(X[0])\n",
    "print(y[0])"
   ]
  },
  {
   "cell_type": "code",
   "execution_count": 798,
   "metadata": {},
   "outputs": [],
   "source": [
    "# Train/test split\n",
    "train_size = 0.70\n",
    "split = int(len(X) * train_size)\n",
    "\n",
    "X_train = X[:split]\n",
    "X_test = X[split:]\n",
    "\n",
    "y_train = y[:split]\n",
    "y_test = y[split:]"
   ]
  },
  {
   "cell_type": "code",
   "execution_count": 799,
   "metadata": {},
   "outputs": [],
   "source": [
    "from sklearn.preprocessing import MinMaxScaler\n",
    "\n",
    "scaler = MinMaxScaler()\n",
    "\n",
    "scaler.fit(X)\n",
    "X_train = scaler.transform(X_train)\n",
    "X_test = scaler.transform(X_test)\n",
    "\n",
    "scaler.fit(y)\n",
    "y_train = scaler.transform(y_train)\n",
    "y_test = scaler.transform(y_test)"
   ]
  },
  {
   "cell_type": "code",
   "execution_count": 800,
   "metadata": {},
   "outputs": [],
   "source": [
    "# Reshape the features for the model\n",
    "# YOUR CODE HERE!\n",
    "X_train = X_train.reshape(X_train.shape[0], X_train.shape[1], 1)\n",
    "X_test = X_test.reshape(X_test.shape[0], X_test.shape[1], 1)"
   ]
  },
  {
   "cell_type": "code",
   "execution_count": 801,
   "metadata": {},
   "outputs": [
    {
     "name": "stdout",
     "output_type": "stream",
     "text": [
      "[[0.00017739]\n",
      " [0.        ]]\n",
      "[[0.66446201]\n",
      " [0.67368608]]\n",
      "[0.00027214]\n",
      "[0.67899491]\n"
     ]
    }
   ],
   "source": [
    "print(X_train[0])\n",
    "print(X_test[0])\n",
    "print(y_train[0])\n",
    "print(y_test[0])"
   ]
  },
  {
   "cell_type": "code",
   "execution_count": 802,
   "metadata": {},
   "outputs": [
    {
     "data": {
      "text/plain": [
       "(698, 2, 1)"
      ]
     },
     "execution_count": 802,
     "metadata": {},
     "output_type": "execute_result"
    }
   ],
   "source": [
    "X_train.shape"
   ]
  },
  {
   "cell_type": "code",
   "execution_count": 803,
   "metadata": {},
   "outputs": [],
   "source": [
    "from tensorflow.keras.models import Sequential, load_model\n",
    "from tensorflow.keras.layers import Dense, LSTM, Dropout"
   ]
  },
  {
   "cell_type": "code",
   "execution_count": 804,
   "metadata": {},
   "outputs": [],
   "source": [
    "# Construct model\n",
    "\n",
    "def create_model():\n",
    "\n",
    "    model = Sequential()\n",
    "\n",
    "    num_inputs = window_size\n",
    "    dropout_fraction = 0.2\n",
    "\n",
    "    # Layer 1\n",
    "    model.add(LSTM(\n",
    "        units=num_inputs,\n",
    "        return_sequences=True,\n",
    "        input_shape=(X_train.shape[1], 1)\n",
    "    ))\n",
    "    model.add(Dropout(dropout_fraction))\n",
    "\n",
    "    # Layer 2\n",
    "    model.add(LSTM(\n",
    "        units=num_inputs,\n",
    "        return_sequences=True\n",
    "    ))\n",
    "    model.add(Dropout(dropout_fraction))\n",
    "\n",
    "    # Layer 3\n",
    "    model.add(LSTM(\n",
    "        units=num_inputs\n",
    "    ))\n",
    "    model.add(Dropout(dropout_fraction))\n",
    "\n",
    "    # Output layer\n",
    "    model.add(Dense(1))\n",
    "\n",
    "    model.compile(optimizer='adam', loss='mean_squared_error')\n",
    "    \n",
    "    return model\n",
    "\n",
    "model = create_model()"
   ]
  },
  {
   "cell_type": "code",
   "execution_count": 805,
   "metadata": {},
   "outputs": [
    {
     "data": {
      "text/plain": [
       "(698, 2, 1)"
      ]
     },
     "execution_count": 805,
     "metadata": {},
     "output_type": "execute_result"
    }
   ],
   "source": [
    "X_train.shape"
   ]
  },
  {
   "cell_type": "code",
   "execution_count": 806,
   "metadata": {},
   "outputs": [],
   "source": [
    "# Compile model\n",
    "model.compile(optimizer='adam', loss='mean_squared_error')"
   ]
  },
  {
   "cell_type": "code",
   "execution_count": 807,
   "metadata": {},
   "outputs": [
    {
     "name": "stdout",
     "output_type": "stream",
     "text": [
      "_________________________________________________________________\n",
      "Layer (type)                 Output Shape              Param #   \n",
      "=================================================================\n",
      "lstm_60 (LSTM)               (None, 2, 2)              32        \n",
      "_________________________________________________________________\n",
      "dropout_60 (Dropout)         (None, 2, 2)              0         \n",
      "_________________________________________________________________\n",
      "lstm_61 (LSTM)               (None, 2, 2)              40        \n",
      "_________________________________________________________________\n",
      "dropout_61 (Dropout)         (None, 2, 2)              0         \n",
      "_________________________________________________________________\n",
      "lstm_62 (LSTM)               (None, 2)                 40        \n",
      "_________________________________________________________________\n",
      "dropout_62 (Dropout)         (None, 2)                 0         \n",
      "_________________________________________________________________\n",
      "dense_20 (Dense)             (None, 1)                 3         \n",
      "=================================================================\n",
      "Total params: 115\n",
      "Trainable params: 115\n",
      "Non-trainable params: 0\n",
      "_________________________________________________________________\n"
     ]
    }
   ],
   "source": [
    "# Summary\n",
    "model.summary()"
   ]
  },
  {
   "cell_type": "code",
   "execution_count": 808,
   "metadata": {},
   "outputs": [
    {
     "name": "stdout",
     "output_type": "stream",
     "text": [
      "Epoch 1/10\n",
      "698/698 [==============================] - 24s 34ms/sample - loss: 0.0113\n",
      "Epoch 2/10\n",
      "698/698 [==============================] - 8s 11ms/sample - loss: 0.0267\n",
      "Epoch 3/10\n",
      "698/698 [==============================] - 5s 7ms/sample - loss: 0.0261\n",
      "Epoch 4/10\n",
      "698/698 [==============================] - 5s 7ms/sample - loss: 0.0233\n",
      "Epoch 5/10\n",
      "698/698 [==============================] - 5s 7ms/sample - loss: 0.0190\n",
      "Epoch 6/10\n",
      "698/698 [==============================] - 5s 7ms/sample - loss: 0.0169\n",
      "Epoch 7/10\n",
      "698/698 [==============================] - 5s 7ms/sample - loss: 0.0127\n",
      "Epoch 8/10\n",
      "698/698 [==============================] - 5s 7ms/sample - loss: 0.0117\n",
      "Epoch 9/10\n",
      "698/698 [==============================] - 5s 6ms/sample - loss: 0.0093\n",
      "Epoch 10/10\n",
      "698/698 [==============================] - 5s 7ms/sample - loss: 0.0088\n"
     ]
    },
    {
     "data": {
      "text/plain": [
       "<tensorflow.python.keras.callbacks.History at 0x7f87723a90d0>"
      ]
     },
     "execution_count": 808,
     "metadata": {},
     "output_type": "execute_result"
    }
   ],
   "source": [
    "# Fit model\n",
    "model.fit(X_train, y_train, batch_size=2, epochs=10, shuffle=False, verbose=1)"
   ]
  },
  {
   "cell_type": "code",
   "execution_count": 809,
   "metadata": {},
   "outputs": [
    {
     "name": "stdout",
     "output_type": "stream",
     "text": [
      "300/300 [==============================] - 5s 18ms/sample - loss: 0.0205\n"
     ]
    },
    {
     "data": {
      "text/plain": [
       "0.02053722981363535"
      ]
     },
     "execution_count": 809,
     "metadata": {},
     "output_type": "execute_result"
    }
   ],
   "source": [
    "# Evaluate model\n",
    "model.evaluate(X_test, y_test)"
   ]
  },
  {
   "cell_type": "code",
   "execution_count": 810,
   "metadata": {},
   "outputs": [
    {
     "name": "stdout",
     "output_type": "stream",
     "text": [
      "X_test: [[0.66446201]\n",
      " [0.67368608]]\n",
      "y_test: [0.67899491]\n"
     ]
    }
   ],
   "source": [
    "print(f\"X_test: {X_test[0]}\")\n",
    "print(f\"y_test: {y_test[0]}\")"
   ]
  },
  {
   "cell_type": "code",
   "execution_count": 811,
   "metadata": {},
   "outputs": [],
   "source": [
    "predicted = model.predict(X_test)\n",
    "\n",
    "# Inverse scale\n",
    "real_prices = scaler.inverse_transform(y_test.reshape(-1, 1))\n",
    "predicted_prices = scaler.inverse_transform(predicted)\n",
    "\n",
    "predictions = pd.DataFrame({\n",
    "    'Real': real_prices.ravel(),\n",
    "    'Predicted': predicted_prices.ravel()\n",
    "})"
   ]
  },
  {
   "cell_type": "code",
   "execution_count": 812,
   "metadata": {},
   "outputs": [
    {
     "data": {
      "text/plain": [
       "<matplotlib.axes._subplots.AxesSubplot at 0x7f87760f5590>"
      ]
     },
     "execution_count": 812,
     "metadata": {},
     "output_type": "execute_result"
    },
    {
     "data": {
      "image/png": "[encoded data removed]",
      "text/plain": [
       "<Figure size 864x576 with 1 Axes>"
      ]
     },
     "metadata": {
      "needs_background": "light"
     },
     "output_type": "display_data"
    }
   ],
   "source": [
    "predictions.plot(figsize=(12,8))"
   ]
  },
  {
   "cell_type": "code",
   "execution_count": 826,
   "metadata": {},
   "outputs": [],
   "source": [
    "model.save('./Models/GOOGL_model')\n",
    "g_model = load_model('./Models/GOOGL_model')"
   ]
  },
  {
   "cell_type": "code",
   "execution_count": 827,
   "metadata": {},
   "outputs": [
    {
     "name": "stdout",
     "output_type": "stream",
     "text": [
      "300/300 [==============================] - 5s 18ms/sample - loss: 0.0205\n"
     ]
    },
    {
     "data": {
      "text/plain": [
       "0.02053722981363535"
      ]
     },
     "execution_count": 827,
     "metadata": {},
     "output_type": "execute_result"
    }
   ],
   "source": [
    "g_model.evaluate(X_test, y_test)"
   ]
  },
  {
   "cell_type": "code",
   "execution_count": 828,
   "metadata": {},
   "outputs": [
    {
     "name": "stdout",
     "output_type": "stream",
     "text": [
      "300/300 [==============================] - 0s 239us/sample - loss: 0.0205\n"
     ]
    },
    {
     "data": {
      "text/plain": [
       "0.02053722981363535"
      ]
     },
     "execution_count": 828,
     "metadata": {},
     "output_type": "execute_result"
    }
   ],
   "source": [
    "# Showing that g_model gives same output\n",
    "model.evaluate(X_test, y_test)"
   ]
  },
  {
   "cell_type": "code",
   "execution_count": null,
   "metadata": {},
   "outputs": [],
   "source": [
    "l = predicted_return(g_model, stock_df, window=5, fit_window=2)\n",
    "l"
   ]
  },
  {
   "cell_type": "code",
   "execution_count": 829,
   "metadata": {},
   "outputs": [],
   "source": [
    "def predicted_portfolio_metrics(model, all_data, window=30, fit_window=5, have_today_close=False):\n",
    "    '''\n",
    "    Uses `model` to predict returns `window` days in the future.\n",
    "    \n",
    "    Need `fit_window` (some num of days) so we know what to \n",
    "    pass in to model.fit() (via `get_prediction`).\n",
    "    \n",
    "    Expect `window` from user, but default to 30. This is the holding\n",
    "    window, i.e. how far out we want to predict.\n",
    "    \n",
    "    Assumes model is current (i.e. has been fitted on data up to \n",
    "    yesterday or, if there is a closing price, today.\n",
    "    \n",
    "    Need `have_today_close` because we need to know whether the \n",
    "    model was fitted with data for today or only up to yesterday.\n",
    "    '''\n",
    "    \n",
    "    # DF where we'll append predictions as we generate them. Copying \n",
    "    # most recent `training_window` days from all_data so that we \n",
    "    # have a basis for predictions.\n",
    "    df = all_data.iloc[-fit_window:].copy()\n",
    "\n",
    "    for _ in range(window):        \n",
    "        # Scale data and reshape for model\n",
    "        #\n",
    "        # Still using fit_window here because we only want\n",
    "        # most recent fit_window days for making prediction\n",
    "        data = prep_data_for_pred(df.iloc[-fit_window:], all_data, fit_window)\n",
    "        \n",
    "        # Get prediction\n",
    "        pred = model.predict(data)\n",
    "        \n",
    "        # Inverse transform and reshape predicted price\n",
    "        pred = rescale_pred(pred, all_data)\n",
    "        pred = pred.reshape(-1,)\n",
    "        \n",
    "        # Get date for adding new row to index\n",
    "        pred_date = df.iloc[-1].name + timedelta(days=1)\n",
    "        \n",
    "        # Add predictions to df\n",
    "        df = df.append(pd.DataFrame({'close': pred}, index=[pred_date]))\n",
    "        \n",
    "        # Fit model with added data (predictions)\n",
    "        X, y = prep_data_for_fitting(df, fit_window)\n",
    "        model.fit(X, y, epochs=10, shuffle=False, batch_size=1, verbose=0)\n",
    "        \n",
    "    # After for loop, last row in df should be the prediction \n",
    "    # that we want.\n",
    "    pred_to_return = df.iloc[-1]\n",
    "    \n",
    "    # TODO\n",
    "    # Calculate pred_return, sharpe ratio, date of prediction (just to \n",
    "    # be transparent for user)\n",
    "    #\n",
    "    # What info do we need to calc return? User's exising investment?\n",
    "    # What date do we start with? Today's date?\n",
    "    df['return'] = df['close'].pct_change()\n",
    "    pred_return = df.iloc[-1]['return'] * 100\n",
    "    \n",
    "    sharpe_ratio = (df['return'].mean() * 252) / (df['return'].std() * np.sqrt(252))\n",
    "    \n",
    "    prediction_date = df.iloc[-1].name.date()\n",
    "    \n",
    "    return pred_return, sharpe_ratio, prediction_date"
   ]
  },
  {
   "cell_type": "code",
   "execution_count": 830,
   "metadata": {},
   "outputs": [],
   "source": [
    "def get_prediction(data, model):\n",
    "    # TODO\n",
    "    # df.loc[pred_date] = model.predict()\n",
    "    pred = model.predict(data)\n",
    "    return pred"
   ]
  },
  {
   "cell_type": "code",
   "execution_count": 831,
   "metadata": {},
   "outputs": [],
   "source": [
    "def prep_data_for_fitting(df, fit_window):\n",
    "    '''\n",
    "    Create data using `window_data`.\n",
    "    Scale data.\n",
    "    Return X, y for fitting model.\n",
    "    '''\n",
    "    X, y = window_data(df, fit_window, 0, 0)\n",
    "    \n",
    "    scaler = MinMaxScaler()\n",
    "    scaler.fit(X)\n",
    "    X = scaler.transform(X)\n",
    "    \n",
    "    X = X.reshape((X.shape[0], X.shape[1], 1))\n",
    "    \n",
    "    scaler.fit(y)\n",
    "    y = scaler.transform(y)\n",
    "    \n",
    "    return X, y"
   ]
  },
  {
   "cell_type": "code",
   "execution_count": 832,
   "metadata": {},
   "outputs": [],
   "source": [
    "def update_model(model):\n",
    "    '''\n",
    "    Fits model with most current data.\n",
    "    '''\n",
    "    # TODO\n",
    "    pass"
   ]
  },
  {
   "cell_type": "code",
   "execution_count": 833,
   "metadata": {},
   "outputs": [],
   "source": [
    "def prep_data_for_pred(data, stock_data, fit_window):\n",
    "    '''\n",
    "    Prep data for prediction.\n",
    "    \n",
    "    `stock_data` is need to fit the scaler to ALL of the data.\n",
    "    '''\n",
    "    X = np.array(data)\n",
    "    \n",
    "    scaler = MinMaxScaler()\n",
    "    scaler.fit(stock_data)\n",
    "    X = scaler.transform(X)\n",
    "    \n",
    "    # Reshape for model\n",
    "    # Not sure how to set this programmatically (e.g. using\n",
    "    # X.shape[0], X.shape[1], etc.) but this works.\n",
    "    X = X.reshape((1, fit_window, 1))\n",
    "    \n",
    "    return X"
   ]
  },
  {
   "cell_type": "code",
   "execution_count": 834,
   "metadata": {},
   "outputs": [],
   "source": [
    "def rescale_pred(pred, stock_data):\n",
    "    '''\n",
    "    Inversely scale data.\n",
    "    '''\n",
    "    scaler = MinMaxScaler()\n",
    "    scaler.fit(stock_data)\n",
    "    pred = scaler.inverse_transform(pred)\n",
    "    return pred"
   ]
  },
  {
   "cell_type": "code",
   "execution_count": 835,
   "metadata": {},
   "outputs": [
    {
     "data": {
      "text/plain": [
       "'05-07-2020'"
      ]
     },
     "execution_count": 835,
     "metadata": {},
     "output_type": "execute_result"
    }
   ],
   "source": [
    "datetime.today().date().strftime('%d-%m-%Y')"
   ]
  },
  {
   "cell_type": "code",
   "execution_count": 836,
   "metadata": {},
   "outputs": [],
   "source": [
    "class myNN(Sequential):\n",
    "    def __init__(self):\n",
    "        super(Sequential, self).__init__()"
   ]
  },
  {
   "cell_type": "code",
   "execution_count": null,
   "metadata": {},
   "outputs": [],
   "source": [
    "model.fit()"
   ]
  },
  {
   "cell_type": "code",
   "execution_count": 842,
   "metadata": {},
   "outputs": [
    {
     "data": {
      "text/plain": [
       "Timestamp('2020-07-02 00:00:00')"
      ]
     },
     "execution_count": 842,
     "metadata": {},
     "output_type": "execute_result"
    }
   ],
   "source": [
    "stock_df.iloc[-1].name"
   ]
  },
  {
   "cell_type": "code",
   "execution_count": null,
   "metadata": {},
   "outputs": [],
   "source": []
  }
 ],
 "metadata": {
  "kernelspec": {
   "display_name": "Python (Viz)",
   "language": "python",
   "name": "viz"
  },
  "language_info": {
   "codemirror_mode": {
    "name": "ipython",
    "version": 3
   },
   "file_extension": ".py",
   "mimetype": "text/x-python",
   "name": "python",
   "nbconvert_exporter": "python",
   "pygments_lexer": "ipython3",
   "version": "3.7.7"
  }
 },
 "nbformat": 4,
 "nbformat_minor": 4
}
