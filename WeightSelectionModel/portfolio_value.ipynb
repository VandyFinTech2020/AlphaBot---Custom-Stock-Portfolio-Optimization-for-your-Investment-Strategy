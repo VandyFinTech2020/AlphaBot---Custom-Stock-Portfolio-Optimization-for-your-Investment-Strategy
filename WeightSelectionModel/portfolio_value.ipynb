{
 "cells": [
  {
   "cell_type": "code",
   "execution_count": 53,
   "metadata": {},
   "outputs": [],
   "source": [
    "import pandas as pd\n",
    "import numpy as np\n",
    "from pathlib import Path\n",
    "from datetime import date, datetime, timedelta\n",
    "import os\n",
    "from newsapi.newsapi_client import NewsApiClient\n",
    "import alpaca_trade_api as tradeapi\n",
    "import matplotlib.pyplot as plt\n",
    "import hvplot.pandas"
   ]
  },
  {
   "cell_type": "code",
   "execution_count": 54,
   "metadata": {},
   "outputs": [],
   "source": [
    "# Set Alpaca API key and secret\n",
    "alpaca_api_key = os.getenv(\"ALPACA_API_KEY\")\n",
    "alpaca_secret_key = os.getenv(\"ALPACA_SECRET_KEY\")\n",
    "\n",
    "api = tradeapi.REST(alpaca_api_key, alpaca_secret_key, api_version='v2')"
   ]
  },
  {
   "cell_type": "code",
   "execution_count": 55,
   "metadata": {},
   "outputs": [
    {
     "data": {
      "text/html": [
       "<div>\n",
       "<style scoped>\n",
       "    .dataframe tbody tr th:only-of-type {\n",
       "        vertical-align: middle;\n",
       "    }\n",
       "\n",
       "    .dataframe tbody tr th {\n",
       "        vertical-align: top;\n",
       "    }\n",
       "\n",
       "    .dataframe thead th {\n",
       "        text-align: right;\n",
       "    }\n",
       "</style>\n",
       "<table border=\"1\" class=\"dataframe\">\n",
       "  <thead>\n",
       "    <tr style=\"text-align: right;\">\n",
       "      <th></th>\n",
       "      <th>AAPL</th>\n",
       "      <th>AMZN</th>\n",
       "      <th>GOOGL</th>\n",
       "      <th>NFLX</th>\n",
       "    </tr>\n",
       "    <tr>\n",
       "      <th>time</th>\n",
       "      <th></th>\n",
       "      <th></th>\n",
       "      <th></th>\n",
       "      <th></th>\n",
       "    </tr>\n",
       "  </thead>\n",
       "  <tbody>\n",
       "    <tr>\n",
       "      <th>2019-01-16 00:00:00-05:00</th>\n",
       "      <td>154.9100</td>\n",
       "      <td>1681.9703</td>\n",
       "      <td>1088.210</td>\n",
       "      <td>350.7639</td>\n",
       "    </tr>\n",
       "    <tr>\n",
       "      <th>2019-01-17 00:00:00-05:00</th>\n",
       "      <td>155.5300</td>\n",
       "      <td>1691.3700</td>\n",
       "      <td>1098.150</td>\n",
       "      <td>353.8200</td>\n",
       "    </tr>\n",
       "    <tr>\n",
       "      <th>2019-01-18 00:00:00-05:00</th>\n",
       "      <td>156.5700</td>\n",
       "      <td>1693.2421</td>\n",
       "      <td>1105.400</td>\n",
       "      <td>338.9200</td>\n",
       "    </tr>\n",
       "    <tr>\n",
       "      <th>2019-01-22 00:00:00-05:00</th>\n",
       "      <td>152.9300</td>\n",
       "      <td>1628.3980</td>\n",
       "      <td>1074.540</td>\n",
       "      <td>324.5401</td>\n",
       "    </tr>\n",
       "    <tr>\n",
       "      <th>2019-01-23 00:00:00-05:00</th>\n",
       "      <td>153.6799</td>\n",
       "      <td>1636.5500</td>\n",
       "      <td>1082.815</td>\n",
       "      <td>321.5900</td>\n",
       "    </tr>\n",
       "  </tbody>\n",
       "</table>\n",
       "</div>"
      ],
      "text/plain": [
       "                               AAPL       AMZN     GOOGL      NFLX\n",
       "time                                                              \n",
       "2019-01-16 00:00:00-05:00  154.9100  1681.9703  1088.210  350.7639\n",
       "2019-01-17 00:00:00-05:00  155.5300  1691.3700  1098.150  353.8200\n",
       "2019-01-18 00:00:00-05:00  156.5700  1693.2421  1105.400  338.9200\n",
       "2019-01-22 00:00:00-05:00  152.9300  1628.3980  1074.540  324.5401\n",
       "2019-01-23 00:00:00-05:00  153.6799  1636.5500  1082.815  321.5900"
      ]
     },
     "execution_count": 55,
     "metadata": {},
     "output_type": "execute_result"
    }
   ],
   "source": [
    "# Set the tickers\n",
    "tickers = [\"AAPL\", \"AMZN\", \"GOOGL\", \"NFLX\"]\n",
    "\n",
    "# Set timeframe to '1D'\n",
    "timeframe = '1D'\n",
    "\n",
    "# Get current date and the date from one year ago\n",
    "current_date = date.today()\n",
    "past_date = date.today() - timedelta(weeks=52)\n",
    "\n",
    "df = pd.DataFrame()\n",
    "\n",
    "# Get historical data\n",
    "for tick in tickers:\n",
    "    tmp_df = api.get_barset(\n",
    "        tick,\n",
    "        timeframe,\n",
    "        limit=365,\n",
    "        start=current_date,\n",
    "        end=past_date,\n",
    "        after=None,\n",
    "        until=None,\n",
    "    ).df\n",
    "    tmp_df = tmp_df.droplevel(0, axis=1)\n",
    "    tmp_df.drop(columns=['open', 'high', 'low', 'volume'], inplace=True)\n",
    "    tmp_df.rename({'close': tick}, axis=1, inplace=True)\n",
    "    df = pd.concat([df, tmp_df], axis=1)\n",
    "\n",
    "df.head()"
   ]
  },
  {
   "cell_type": "code",
   "execution_count": 56,
   "metadata": {},
   "outputs": [
    {
     "data": {
      "text/html": [
       "<div>\n",
       "<style scoped>\n",
       "    .dataframe tbody tr th:only-of-type {\n",
       "        vertical-align: middle;\n",
       "    }\n",
       "\n",
       "    .dataframe tbody tr th {\n",
       "        vertical-align: top;\n",
       "    }\n",
       "\n",
       "    .dataframe thead th {\n",
       "        text-align: right;\n",
       "    }\n",
       "</style>\n",
       "<table border=\"1\" class=\"dataframe\">\n",
       "  <thead>\n",
       "    <tr style=\"text-align: right;\">\n",
       "      <th></th>\n",
       "      <th>close</th>\n",
       "    </tr>\n",
       "    <tr>\n",
       "      <th>time</th>\n",
       "      <th></th>\n",
       "    </tr>\n",
       "  </thead>\n",
       "  <tbody>\n",
       "    <tr>\n",
       "      <th>2019-01-16 00:00:00-05:00</th>\n",
       "      <td>3275.8542</td>\n",
       "    </tr>\n",
       "    <tr>\n",
       "      <th>2019-01-17 00:00:00-05:00</th>\n",
       "      <td>3298.8700</td>\n",
       "    </tr>\n",
       "    <tr>\n",
       "      <th>2019-01-18 00:00:00-05:00</th>\n",
       "      <td>3294.1321</td>\n",
       "    </tr>\n",
       "    <tr>\n",
       "      <th>2019-01-22 00:00:00-05:00</th>\n",
       "      <td>3180.4081</td>\n",
       "    </tr>\n",
       "    <tr>\n",
       "      <th>2019-01-23 00:00:00-05:00</th>\n",
       "      <td>3194.6349</td>\n",
       "    </tr>\n",
       "  </tbody>\n",
       "</table>\n",
       "</div>"
      ],
      "text/plain": [
       "                               close\n",
       "time                                \n",
       "2019-01-16 00:00:00-05:00  3275.8542\n",
       "2019-01-17 00:00:00-05:00  3298.8700\n",
       "2019-01-18 00:00:00-05:00  3294.1321\n",
       "2019-01-22 00:00:00-05:00  3180.4081\n",
       "2019-01-23 00:00:00-05:00  3194.6349"
      ]
     },
     "execution_count": 56,
     "metadata": {},
     "output_type": "execute_result"
    }
   ],
   "source": [
    "# combine all closing prices from portfolio into one portfolio value\n",
    "aapl1_df = df.loc[:,'AAPL'].to_frame()\n",
    "aapl1_df.rename(columns={'AAPL': 'close'}, inplace=True)\n",
    "aapl1_df.dropna(inplace=True)\n",
    "\n",
    "nflx1_df = df.loc[:, 'NFLX'].to_frame()\n",
    "nflx1_df.rename(columns={'NFLX': 'close'}, inplace=True)\n",
    "nflx1_df.dropna(inplace=True)\n",
    "\n",
    "googl1_df = df.loc[:,'GOOGL'].to_frame()\n",
    "googl1_df.rename(columns={'GOOGL': 'close'}, inplace=True)\n",
    "googl1_df.dropna(inplace=True)\n",
    "\n",
    "amzn1_df = df.loc[:, 'AMZN'].to_frame()\n",
    "amzn1_df.rename(columns={'AMZN': 'close'}, inplace=True)\n",
    "amzn1_df.dropna(inplace=True)\n",
    "\n",
    "combo_df = aapl1_df[\"close\"] + amzn1_df[\"close\"] + nflx1_df[\"close\"] + googl1_df[\"close\"]\n",
    "column_names=[\"close\"]\n",
    "combo_df1 = pd.DataFrame(combo_df,columns = column_names)\n",
    "combo_df1.head()"
   ]
  },
  {
   "cell_type": "code",
   "execution_count": 57,
   "metadata": {},
   "outputs": [
    {
     "data": {},
     "metadata": {},
     "output_type": "display_data"
    },
    {
     "data": {
      "application/vnd.holoviews_exec.v0+json": "",
      "text/html": [
       "<div id='1339'>\n",
       "\n",
       "\n",
       "\n",
       "\n",
       "\n",
       "  <div class=\"bk-root\" id=\"1ed0f7a1-e24f-4cbb-ac9b-e005173bddf3\" data-root-id=\"1339\"></div>\n",
       "</div>\n",
       "<script type=\"application/javascript\">(function(root) {\n",
       "  function embed_document(root) {\n",
       "  var docs_json = {\"35b03d84-e36a-41ba-923b-82a5446e3081\":{\"roots\":{\"references\":[{\"attributes\":{},\"id\":\"1385\",\"type\":\"BasicTickFormatter\"},{\"attributes\":{\"text\":\"close\",\"text_color\":{\"value\":\"black\"},\"text_font_size\":{\"value\":\"12pt\"}},\"id\":\"1345\",\"type\":\"Title\"},{\"attributes\":{},\"id\":\"1362\",\"type\":\"PanTool\"},{\"attributes\":{\"data_source\":{\"id\":\"1374\"},\"glyph\":{\"id\":\"1377\"},\"hover_glyph\":null,\"muted_glyph\":{\"id\":\"1379\"},\"nonselection_glyph\":{\"id\":\"1378\"},\"selection_glyph\":null,\"view\":{\"id\":\"1381\"}},\"id\":\"1380\",\"type\":\"GlyphRenderer\"},{\"attributes\":{},\"id\":\"1363\",\"type\":\"WheelZoomTool\"},{\"attributes\":{\"end\":5252.357,\"reset_end\":5252.357,\"reset_start\":2954.9929999999995,\"start\":2954.9929999999995,\"tags\":[[[\"close\",\"close\",null]]]},\"id\":\"1342\",\"type\":\"Range1d\"},{\"attributes\":{\"days\":[1,8,15,22]},\"id\":\"1396\",\"type\":\"DaysTicker\"},{\"attributes\":{\"overlay\":{\"id\":\"1366\"}},\"id\":\"1364\",\"type\":\"BoxZoomTool\"},{\"attributes\":{\"source\":{\"id\":\"1374\"}},\"id\":\"1381\",\"type\":\"CDSView\"},{\"attributes\":{\"line_alpha\":0.2,\"line_color\":\"#1f77b3\",\"line_width\":2,\"x\":{\"field\":\"time\"},\"y\":{\"field\":\"close\"}},\"id\":\"1379\",\"type\":\"Line\"},{\"attributes\":{\"days\":[1,15]},\"id\":\"1397\",\"type\":\"DaysTicker\"},{\"attributes\":{\"axis_label\":\"time\",\"bounds\":\"auto\",\"formatter\":{\"id\":\"1383\"},\"major_label_orientation\":\"horizontal\",\"ticker\":{\"id\":\"1354\"}},\"id\":\"1353\",\"type\":\"DatetimeAxis\"},{\"attributes\":{\"end\":1593144000000.0,\"reset_end\":1593144000000.0,\"reset_start\":1547614800000.0,\"start\":1547614800000.0,\"tags\":[[[\"time\",\"time\",null]]]},\"id\":\"1341\",\"type\":\"Range1d\"},{\"attributes\":{\"days\":[1,2,3,4,5,6,7,8,9,10,11,12,13,14,15,16,17,18,19,20,21,22,23,24,25,26,27,28,29,30,31]},\"id\":\"1394\",\"type\":\"DaysTicker\"},{\"attributes\":{},\"id\":\"1349\",\"type\":\"LinearScale\"},{\"attributes\":{\"num_minor_ticks\":5,\"tickers\":[{\"id\":\"1391\"},{\"id\":\"1392\"},{\"id\":\"1393\"},{\"id\":\"1394\"},{\"id\":\"1395\"},{\"id\":\"1396\"},{\"id\":\"1397\"},{\"id\":\"1398\"},{\"id\":\"1399\"},{\"id\":\"1400\"},{\"id\":\"1401\"},{\"id\":\"1402\"}]},\"id\":\"1354\",\"type\":\"DatetimeTicker\"},{\"attributes\":{\"callback\":null,\"formatters\":{\"@{time}\":\"datetime\"},\"renderers\":[{\"id\":\"1380\"}],\"tags\":[\"hv_created\"],\"tooltips\":[[\"time\",\"@{time}{%F %T}\"],[\"close\",\"@{close}\"]]},\"id\":\"1343\",\"type\":\"HoverTool\"},{\"attributes\":{},\"id\":\"1365\",\"type\":\"ResetTool\"},{\"attributes\":{},\"id\":\"1351\",\"type\":\"LinearScale\"},{\"attributes\":{\"margin\":[5,5,5,5],\"name\":\"HSpacer01837\",\"sizing_mode\":\"stretch_width\"},\"id\":\"1406\",\"type\":\"Spacer\"},{\"attributes\":{\"margin\":[5,5,5,5],\"name\":\"HSpacer01836\",\"sizing_mode\":\"stretch_width\"},\"id\":\"1340\",\"type\":\"Spacer\"},{\"attributes\":{},\"id\":\"1358\",\"type\":\"BasicTicker\"},{\"attributes\":{\"data\":{\"close\":{\"__ndarray__\":\"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\",\"dtype\":\"float64\",\"shape\":[365]},\"time\":{\"__ndarray__\":\"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\",\"dtype\":\"float64\",\"shape\":[365]}},\"selected\":{\"id\":\"1375\"},\"selection_policy\":{\"id\":\"1403\"}},\"id\":\"1374\",\"type\":\"ColumnDataSource\"},{\"attributes\":{\"axis\":{\"id\":\"1353\"},\"grid_line_color\":null,\"ticker\":null},\"id\":\"1356\",\"type\":\"Grid\"},{\"attributes\":{\"align\":null,\"below\":[{\"id\":\"1353\"}],\"center\":[{\"id\":\"1356\"},{\"id\":\"1360\"}],\"left\":[{\"id\":\"1357\"}],\"margin\":null,\"min_border_bottom\":10,\"min_border_left\":10,\"min_border_right\":10,\"min_border_top\":10,\"plot_height\":300,\"plot_width\":700,\"renderers\":[{\"id\":\"1380\"}],\"sizing_mode\":\"fixed\",\"title\":{\"id\":\"1345\"},\"toolbar\":{\"id\":\"1367\"},\"x_range\":{\"id\":\"1341\"},\"x_scale\":{\"id\":\"1349\"},\"y_range\":{\"id\":\"1342\"},\"y_scale\":{\"id\":\"1351\"}},\"id\":\"1344\",\"subtype\":\"Figure\",\"type\":\"Plot\"},{\"attributes\":{},\"id\":\"1403\",\"type\":\"UnionRenderers\"},{\"attributes\":{\"children\":[{\"id\":\"1340\"},{\"id\":\"1344\"},{\"id\":\"1406\"}],\"margin\":[0,0,0,0],\"name\":\"Row01832\",\"tags\":[\"embedded\"]},\"id\":\"1339\",\"type\":\"Row\"},{\"attributes\":{\"axis\":{\"id\":\"1357\"},\"dimension\":1,\"grid_line_color\":null,\"ticker\":null},\"id\":\"1360\",\"type\":\"Grid\"},{\"attributes\":{\"axis_label\":\"\",\"bounds\":\"auto\",\"formatter\":{\"id\":\"1385\"},\"major_label_orientation\":\"horizontal\",\"ticker\":{\"id\":\"1358\"}},\"id\":\"1357\",\"type\":\"LinearAxis\"},{\"attributes\":{},\"id\":\"1402\",\"type\":\"YearsTicker\"},{\"attributes\":{\"base\":24,\"mantissas\":[1,2,4,6,8,12],\"max_interval\":43200000.0,\"min_interval\":3600000.0,\"num_minor_ticks\":0},\"id\":\"1393\",\"type\":\"AdaptiveTicker\"},{\"attributes\":{\"months\":[0,1,2,3,4,5,6,7,8,9,10,11]},\"id\":\"1398\",\"type\":\"MonthsTicker\"},{\"attributes\":{\"months\":[0,6]},\"id\":\"1401\",\"type\":\"MonthsTicker\"},{\"attributes\":{\"line_color\":\"#1f77b3\",\"line_width\":2,\"x\":{\"field\":\"time\"},\"y\":{\"field\":\"close\"}},\"id\":\"1377\",\"type\":\"Line\"},{\"attributes\":{\"base\":60,\"mantissas\":[1,2,5,10,15,20,30],\"max_interval\":1800000.0,\"min_interval\":1000.0,\"num_minor_ticks\":0},\"id\":\"1392\",\"type\":\"AdaptiveTicker\"},{\"attributes\":{\"days\":[1,4,7,10,13,16,19,22,25,28]},\"id\":\"1395\",\"type\":\"DaysTicker\"},{\"attributes\":{\"bottom_units\":\"screen\",\"fill_alpha\":0.5,\"fill_color\":\"lightgrey\",\"left_units\":\"screen\",\"level\":\"overlay\",\"line_alpha\":1.0,\"line_color\":\"black\",\"line_dash\":[4,4],\"line_width\":2,\"render_mode\":\"css\",\"right_units\":\"screen\",\"top_units\":\"screen\"},\"id\":\"1366\",\"type\":\"BoxAnnotation\"},{\"attributes\":{\"months\":[0,4,8]},\"id\":\"1400\",\"type\":\"MonthsTicker\"},{\"attributes\":{},\"id\":\"1383\",\"type\":\"DatetimeTickFormatter\"},{\"attributes\":{},\"id\":\"1375\",\"type\":\"Selection\"},{\"attributes\":{\"active_drag\":\"auto\",\"active_inspect\":\"auto\",\"active_multi\":null,\"active_scroll\":\"auto\",\"active_tap\":\"auto\",\"tools\":[{\"id\":\"1343\"},{\"id\":\"1361\"},{\"id\":\"1362\"},{\"id\":\"1363\"},{\"id\":\"1364\"},{\"id\":\"1365\"}]},\"id\":\"1367\",\"type\":\"Toolbar\"},{\"attributes\":{\"mantissas\":[1,2,5],\"max_interval\":500.0,\"num_minor_ticks\":0},\"id\":\"1391\",\"type\":\"AdaptiveTicker\"},{\"attributes\":{\"line_alpha\":0.1,\"line_color\":\"#1f77b3\",\"line_width\":2,\"x\":{\"field\":\"time\"},\"y\":{\"field\":\"close\"}},\"id\":\"1378\",\"type\":\"Line\"},{\"attributes\":{\"months\":[0,2,4,6,8,10]},\"id\":\"1399\",\"type\":\"MonthsTicker\"},{\"attributes\":{},\"id\":\"1361\",\"type\":\"SaveTool\"}],\"root_ids\":[\"1339\"]},\"title\":\"Bokeh Application\",\"version\":\"2.0.1\"}};\n",
       "  var render_items = [{\"docid\":\"35b03d84-e36a-41ba-923b-82a5446e3081\",\"root_ids\":[\"1339\"],\"roots\":{\"1339\":\"1ed0f7a1-e24f-4cbb-ac9b-e005173bddf3\"}}];\n",
       "  root.Bokeh.embed.embed_items_notebook(docs_json, render_items);\n",
       "  }\n",
       "if (root.Bokeh !== undefined) {\n",
       "    embed_document(root);\n",
       "  } else {\n",
       "    var attempts = 0;\n",
       "    var timer = setInterval(function(root) {\n",
       "      if (root.Bokeh !== undefined) {\n",
       "        clearInterval(timer);\n",
       "        embed_document(root);\n",
       "      } else if (document.readyState == \"complete\") {\n",
       "        attempts++;\n",
       "        if (attempts > 100) {\n",
       "          clearInterval(timer);\n",
       "          console.log(\"Bokeh: ERROR: Unable to run BokehJS code because BokehJS library is missing\");\n",
       "        }\n",
       "      }\n",
       "    }, 10, root)\n",
       "  }\n",
       "})(window);</script>"
      ],
      "text/plain": [
       ":Curve   [time]   (close)"
      ]
     },
     "execution_count": 57,
     "metadata": {
      "application/vnd.holoviews_exec.v0+json": {
       "id": "1339"
      }
     },
     "output_type": "execute_result"
    }
   ],
   "source": [
    "combo_df.hvplot(subplots=True, figsize=(12,8))"
   ]
  },
  {
   "cell_type": "code",
   "execution_count": 58,
   "metadata": {},
   "outputs": [
    {
     "data": {
      "text/html": [
       "<div>\n",
       "<style scoped>\n",
       "    .dataframe tbody tr th:only-of-type {\n",
       "        vertical-align: middle;\n",
       "    }\n",
       "\n",
       "    .dataframe tbody tr th {\n",
       "        vertical-align: top;\n",
       "    }\n",
       "\n",
       "    .dataframe thead th {\n",
       "        text-align: right;\n",
       "    }\n",
       "</style>\n",
       "<table border=\"1\" class=\"dataframe\">\n",
       "  <thead>\n",
       "    <tr style=\"text-align: right;\">\n",
       "      <th></th>\n",
       "      <th>close</th>\n",
       "      <th>return</th>\n",
       "      <th>lag_1_day</th>\n",
       "    </tr>\n",
       "    <tr>\n",
       "      <th>time</th>\n",
       "      <th></th>\n",
       "      <th></th>\n",
       "      <th></th>\n",
       "    </tr>\n",
       "  </thead>\n",
       "  <tbody>\n",
       "    <tr>\n",
       "      <th>2019-01-18 00:00:00-05:00</th>\n",
       "      <td>3294.1321</td>\n",
       "      <td>-0.001436</td>\n",
       "      <td>3298.8700</td>\n",
       "    </tr>\n",
       "    <tr>\n",
       "      <th>2019-01-22 00:00:00-05:00</th>\n",
       "      <td>3180.4081</td>\n",
       "      <td>-0.034523</td>\n",
       "      <td>3294.1321</td>\n",
       "    </tr>\n",
       "    <tr>\n",
       "      <th>2019-01-23 00:00:00-05:00</th>\n",
       "      <td>3194.6349</td>\n",
       "      <td>0.004473</td>\n",
       "      <td>3180.4081</td>\n",
       "    </tr>\n",
       "    <tr>\n",
       "      <th>2019-01-24 00:00:00-05:00</th>\n",
       "      <td>3218.7731</td>\n",
       "      <td>0.007556</td>\n",
       "      <td>3194.6349</td>\n",
       "    </tr>\n",
       "    <tr>\n",
       "      <th>2019-01-25 00:00:00-05:00</th>\n",
       "      <td>3263.4100</td>\n",
       "      <td>0.013868</td>\n",
       "      <td>3218.7731</td>\n",
       "    </tr>\n",
       "  </tbody>\n",
       "</table>\n",
       "</div>"
      ],
      "text/plain": [
       "                               close    return  lag_1_day\n",
       "time                                                     \n",
       "2019-01-18 00:00:00-05:00  3294.1321 -0.001436  3298.8700\n",
       "2019-01-22 00:00:00-05:00  3180.4081 -0.034523  3294.1321\n",
       "2019-01-23 00:00:00-05:00  3194.6349  0.004473  3180.4081\n",
       "2019-01-24 00:00:00-05:00  3218.7731  0.007556  3194.6349\n",
       "2019-01-25 00:00:00-05:00  3263.4100  0.013868  3218.7731"
      ]
     },
     "execution_count": 58,
     "metadata": {},
     "output_type": "execute_result"
    }
   ],
   "source": [
    "combo_df1[\"return\"] = combo_df1.pct_change()\n",
    "combo_df1.dropna(inplace=True)\n",
    "\n",
    "combo_df1['lag_1_day'] = combo_df1['close'].shift()\n",
    "combo_df1.dropna(inplace=True)\n",
    "\n",
    "combo_df1.head()"
   ]
  },
  {
   "cell_type": "code",
   "execution_count": 59,
   "metadata": {},
   "outputs": [],
   "source": [
    "short_window = 20\n",
    "long_window = 100\n",
    "\n",
    "# Exponentially weighted moving average\n",
    "combo_df1[\"short_window_ma\"] = combo_df1[\"close\"].ewm(halflife=short_window).mean()\n",
    "combo_df[\"long_window_ma\"] = combo_df1[\"close\"].ewm(halflife=long_window).mean()\n",
    "\n",
    "# Expoentially weighted volatility\n",
    "combo_df1[\"fast_vol\"] = combo_df1[\"return\"].ewm(halflife=short_window).std()\n",
    "combo_df1[\"slow_vol\"] = combo_df1[\"return\"].ewm(halflife=long_window).std()"
   ]
  },
  {
   "cell_type": "code",
   "execution_count": 60,
   "metadata": {},
   "outputs": [
    {
     "data": {
      "text/html": [
       "<div>\n",
       "<style scoped>\n",
       "    .dataframe tbody tr th:only-of-type {\n",
       "        vertical-align: middle;\n",
       "    }\n",
       "\n",
       "    .dataframe tbody tr th {\n",
       "        vertical-align: top;\n",
       "    }\n",
       "\n",
       "    .dataframe thead th {\n",
       "        text-align: right;\n",
       "    }\n",
       "</style>\n",
       "<table border=\"1\" class=\"dataframe\">\n",
       "  <thead>\n",
       "    <tr style=\"text-align: right;\">\n",
       "      <th></th>\n",
       "      <th>close</th>\n",
       "      <th>return</th>\n",
       "      <th>lag_1_day</th>\n",
       "      <th>short_window_ma</th>\n",
       "      <th>fast_vol</th>\n",
       "      <th>slow_vol</th>\n",
       "    </tr>\n",
       "    <tr>\n",
       "      <th>time</th>\n",
       "      <th></th>\n",
       "      <th></th>\n",
       "      <th></th>\n",
       "      <th></th>\n",
       "      <th></th>\n",
       "      <th></th>\n",
       "    </tr>\n",
       "  </thead>\n",
       "  <tbody>\n",
       "    <tr>\n",
       "      <th>2019-01-22 00:00:00-05:00</th>\n",
       "      <td>3180.4081</td>\n",
       "      <td>-0.034523</td>\n",
       "      <td>3294.1321</td>\n",
       "      <td>3236.284855</td>\n",
       "      <td>0.023396</td>\n",
       "      <td>0.023396</td>\n",
       "    </tr>\n",
       "    <tr>\n",
       "      <th>2019-01-23 00:00:00-05:00</th>\n",
       "      <td>3194.6349</td>\n",
       "      <td>0.004473</td>\n",
       "      <td>3180.4081</td>\n",
       "      <td>3221.917696</td>\n",
       "      <td>0.021078</td>\n",
       "      <td>0.021029</td>\n",
       "    </tr>\n",
       "    <tr>\n",
       "      <th>2019-01-24 00:00:00-05:00</th>\n",
       "      <td>3218.7731</td>\n",
       "      <td>0.007556</td>\n",
       "      <td>3194.6349</td>\n",
       "      <td>3221.090218</td>\n",
       "      <td>0.019355</td>\n",
       "      <td>0.019383</td>\n",
       "    </tr>\n",
       "    <tr>\n",
       "      <th>2019-01-25 00:00:00-05:00</th>\n",
       "      <td>3263.4100</td>\n",
       "      <td>0.013868</td>\n",
       "      <td>3218.7731</td>\n",
       "      <td>3230.150775</td>\n",
       "      <td>0.018883</td>\n",
       "      <td>0.018973</td>\n",
       "    </tr>\n",
       "    <tr>\n",
       "      <th>2019-01-28 00:00:00-05:00</th>\n",
       "      <td>3207.8557</td>\n",
       "      <td>-0.017023</td>\n",
       "      <td>3263.4100</td>\n",
       "      <td>3226.105706</td>\n",
       "      <td>0.017977</td>\n",
       "      <td>0.018043</td>\n",
       "    </tr>\n",
       "  </tbody>\n",
       "</table>\n",
       "</div>"
      ],
      "text/plain": [
       "                               close    return  lag_1_day  short_window_ma  \\\n",
       "time                                                                         \n",
       "2019-01-22 00:00:00-05:00  3180.4081 -0.034523  3294.1321      3236.284855   \n",
       "2019-01-23 00:00:00-05:00  3194.6349  0.004473  3180.4081      3221.917696   \n",
       "2019-01-24 00:00:00-05:00  3218.7731  0.007556  3194.6349      3221.090218   \n",
       "2019-01-25 00:00:00-05:00  3263.4100  0.013868  3218.7731      3230.150775   \n",
       "2019-01-28 00:00:00-05:00  3207.8557 -0.017023  3263.4100      3226.105706   \n",
       "\n",
       "                           fast_vol  slow_vol  \n",
       "time                                           \n",
       "2019-01-22 00:00:00-05:00  0.023396  0.023396  \n",
       "2019-01-23 00:00:00-05:00  0.021078  0.021029  \n",
       "2019-01-24 00:00:00-05:00  0.019355  0.019383  \n",
       "2019-01-25 00:00:00-05:00  0.018883  0.018973  \n",
       "2019-01-28 00:00:00-05:00  0.017977  0.018043  "
      ]
     },
     "execution_count": 60,
     "metadata": {},
     "output_type": "execute_result"
    }
   ],
   "source": [
    "combo_df1.dropna(inplace=True)\n",
    "combo_df1copy = combo_df1.copy()\n",
    "combo_df1.head()"
   ]
  },
  {
   "cell_type": "code",
   "execution_count": 61,
   "metadata": {},
   "outputs": [],
   "source": [
    "X = combo_df1.drop(columns=['lag_1_day'])\n",
    "y = combo_df1.lag_1_day.values.reshape(-1, 1)"
   ]
  },
  {
   "cell_type": "code",
   "execution_count": 62,
   "metadata": {},
   "outputs": [],
   "source": [
    "from sklearn.model_selection import train_test_split\n",
    "\n",
    "X_train, X_test, y_train, y_test = train_test_split(X, y, random_state=0, test_size=0.20)\n",
    "\n"
   ]
  },
  {
   "cell_type": "code",
   "execution_count": 63,
   "metadata": {},
   "outputs": [],
   "source": [
    "from sklearn.preprocessing import StandardScaler\n",
    "\n",
    "scaler = StandardScaler()"
   ]
  },
  {
   "cell_type": "code",
   "execution_count": 64,
   "metadata": {},
   "outputs": [],
   "source": [
    "X_train_scaled, X_test_scaled = scaler.fit_transform(X_train), scaler.transform(X_test)\n"
   ]
  },
  {
   "cell_type": "code",
   "execution_count": 65,
   "metadata": {},
   "outputs": [],
   "source": [
    "from sklearn.ensemble import GradientBoostingRegressor\n",
    "\n",
    "gbr = GradientBoostingRegressor(random_state=0)"
   ]
  },
  {
   "cell_type": "code",
   "execution_count": 66,
   "metadata": {},
   "outputs": [
    {
     "name": "stderr",
     "output_type": "stream",
     "text": [
      "/opt/anaconda3/envs/Viz/lib/python3.7/site-packages/sklearn/ensemble/_gb.py:1454: DataConversionWarning: A column-vector y was passed when a 1d array was expected. Please change the shape of y to (n_samples, ), for example using ravel().\n",
      "  y = column_or_1d(y, warn=True)\n"
     ]
    },
    {
     "data": {
      "text/plain": [
       "GradientBoostingRegressor(alpha=0.9, ccp_alpha=0.0, criterion='friedman_mse',\n",
       "                          init=None, learning_rate=0.1, loss='ls', max_depth=3,\n",
       "                          max_features=None, max_leaf_nodes=None,\n",
       "                          min_impurity_decrease=0.0, min_impurity_split=None,\n",
       "                          min_samples_leaf=1, min_samples_split=2,\n",
       "                          min_weight_fraction_leaf=0.0, n_estimators=100,\n",
       "                          n_iter_no_change=None, presort='deprecated',\n",
       "                          random_state=0, subsample=1.0, tol=0.0001,\n",
       "                          validation_fraction=0.1, verbose=0, warm_start=False)"
      ]
     },
     "execution_count": 66,
     "metadata": {},
     "output_type": "execute_result"
    }
   ],
   "source": [
    "gbr.fit(X_train_scaled, y_train)\n"
   ]
  },
  {
   "cell_type": "code",
   "execution_count": 67,
   "metadata": {},
   "outputs": [
    {
     "data": {
      "text/plain": [
       "<matplotlib.axes._subplots.AxesSubplot at 0x1a24754790>"
      ]
     },
     "execution_count": 67,
     "metadata": {},
     "output_type": "execute_result"
    },
    {
     "data": {
      "image/png": "[encoded data removed]",
      "text/plain": [
       "<Figure size 864x576 with 1 Axes>"
      ]
     },
     "metadata": {
      "needs_background": "light"
     },
     "output_type": "display_data"
    }
   ],
   "source": [
    "GBR_predictions = gbr.predict(X_test_scaled)\n",
    "\n",
    "GBR_predictions_df = pd.DataFrame({'actual': np.ravel(y_test), 'predictions': GBR_predictions})\n",
    "\n",
    "GBR_predictions_df.plot(figsize=(12,8))"
   ]
  },
  {
   "cell_type": "code",
   "execution_count": 68,
   "metadata": {},
   "outputs": [],
   "source": [
    "from sklearn.metrics import mean_squared_error"
   ]
  },
  {
   "cell_type": "code",
   "execution_count": 69,
   "metadata": {},
   "outputs": [
    {
     "name": "stdout",
     "output_type": "stream",
     "text": [
      "GBR MSE: 1471.2025008072335\n"
     ]
    }
   ],
   "source": [
    "GBR_MSE = mean_squared_error(y_test, GBR_predictions)\n",
    "\n",
    "print(f\"GBR MSE: {GBR_MSE}\")"
   ]
  },
  {
   "cell_type": "code",
   "execution_count": 70,
   "metadata": {},
   "outputs": [
    {
     "data": {
      "text/plain": [
       "38.35625764861887"
      ]
     },
     "execution_count": 70,
     "metadata": {},
     "output_type": "execute_result"
    }
   ],
   "source": [
    "np.sqrt(GBR_MSE)"
   ]
  },
  {
   "cell_type": "code",
   "execution_count": 74,
   "metadata": {},
   "outputs": [
    {
     "data": {
      "text/plain": [
       "-12.936113296888191"
      ]
     },
     "execution_count": 74,
     "metadata": {},
     "output_type": "execute_result"
    }
   ],
   "source": [
    "gbr.score(X_test, y_test)"
   ]
  },
  {
   "cell_type": "code",
   "execution_count": null,
   "metadata": {},
   "outputs": [],
   "source": []
  }
 ],
 "metadata": {
  "kernelspec": {
   "display_name": "Python (Viz)",
   "language": "python",
   "name": "viz"
  },
  "language_info": {
   "codemirror_mode": {
    "name": "ipython",
    "version": 3
   },
   "file_extension": ".py",
   "mimetype": "text/x-python",
   "name": "python",
   "nbconvert_exporter": "python",
   "pygments_lexer": "ipython3",
   "version": "3.7.7"
  }
 },
 "nbformat": 4,
 "nbformat_minor": 4
}
