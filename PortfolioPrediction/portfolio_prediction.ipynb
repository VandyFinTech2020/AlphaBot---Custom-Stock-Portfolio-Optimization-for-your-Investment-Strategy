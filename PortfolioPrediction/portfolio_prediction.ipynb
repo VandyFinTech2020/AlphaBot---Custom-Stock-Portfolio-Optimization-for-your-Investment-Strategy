{
 "cells": [
  {
   "cell_type": "markdown",
   "metadata": {},
   "source": [
    "# Comparison of regression models in predicting next-day stock returns"
   ]
  },
  {
   "cell_type": "code",
   "execution_count": 185,
   "metadata": {},
   "outputs": [],
   "source": [
    "import pandas as pd\n",
    "import numpy as np\n",
    "from pathlib import Path\n",
    "from datetime import date, datetime, timedelta\n",
    "import os\n",
    "from newsapi.newsapi_client import NewsApiClient\n",
    "import alpaca_trade_api as tradeapi\n",
    "import matplotlib.pyplot as plt\n",
    "import hvplot.pandas\n",
    "from joblib import dump, load"
   ]
  },
  {
   "cell_type": "code",
   "execution_count": 186,
   "metadata": {},
   "outputs": [],
   "source": [
    "# Set News API Key\n",
    "newsapi = NewsApiClient(api_key=os.getenv(\"NEWS_API_KEY\"))\n",
    "\n",
    "# Set Alpaca API key and secret\n",
    "alpaca_api_key = os.getenv(\"ALPACA_API_KEY_ID\")\n",
    "alpaca_secret_key = os.getenv(\"ALPACA_SECRET_KEY\")\n",
    "\n",
    "api = tradeapi.REST(alpaca_api_key, alpaca_secret_key, api_version='v2')"
   ]
  },
  {
   "cell_type": "code",
   "execution_count": 187,
   "metadata": {},
   "outputs": [
    {
     "data": {
      "text/plain": [
       "1000"
      ]
     },
     "execution_count": 187,
     "metadata": {},
     "output_type": "execute_result"
    }
   ],
   "source": [
    "# TODO\n",
    "# Selecting the tickers can be a stand-alone function\n",
    "# Set the ticker\n",
    "tickers = [\"AAPL\", \"AMZN\", \"GOOGL\", \"NFLX\"]\n",
    "\n",
    "# Set timeframe to '1D'\n",
    "timeframe = '1D'\n",
    "\n",
    "# Get current date and the date from one month ago\n",
    "current_date = date.today()\n",
    "past_date = date.today() - timedelta(weeks=4)\n",
    "\n",
    "df = pd.DataFrame()\n",
    "\n",
    "# Get historical data for AAPL\n",
    "for tick in tickers:\n",
    "    tmp_df = api.get_barset(\n",
    "        tick,\n",
    "        timeframe,\n",
    "        limit=1000,\n",
    "        start=current_date,\n",
    "        end=past_date,\n",
    "        after=None,\n",
    "        until=None,\n",
    "    ).df\n",
    "    tmp_df = tmp_df.droplevel(0, axis=1)\n",
    "    tmp_df.drop(columns=['open', 'high', 'low', 'volume'], inplace=True)\n",
    "    tmp_df.rename({'close': tick}, axis=1, inplace=True)\n",
    "    df = pd.concat([df, tmp_df], axis=1)\n",
    "    \n",
    "df.index = df.index.date\n",
    "\n",
    "# df.head()\n",
    "len(df)"
   ]
  },
  {
   "cell_type": "code",
   "execution_count": 188,
   "metadata": {},
   "outputs": [
    {
     "name": "stdout",
     "output_type": "stream",
     "text": [
      "             AAPL    AMZN   GOOGL     NFLX\n",
      "2016-07-14  98.79  741.19  735.78  98.0200\n",
      "2016-07-15  98.76  735.43  735.64  98.3900\n",
      "2016-07-18  99.83  736.07  753.42  98.8037\n",
      "2016-07-19  99.87  740.06  753.41  85.8300\n",
      "2016-07-20  99.93  745.72  757.08  87.9200\n",
      "              AAPL     AMZN    GOOGL    NFLX\n",
      "2020-06-26  353.69  2692.87  1362.14  443.39\n",
      "2020-06-29  362.00  2681.52  1398.00  447.42\n",
      "2020-06-30  364.60  2756.09  1417.92  454.75\n",
      "2020-07-01  364.01  2879.20  1442.60  485.58\n",
      "2020-07-02  364.12  2887.56  1469.80  477.22\n"
     ]
    }
   ],
   "source": [
    "print(df.head())\n",
    "print(df.tail())"
   ]
  },
  {
   "cell_type": "markdown",
   "metadata": {},
   "source": [
    "## AAPL"
   ]
  },
  {
   "cell_type": "markdown",
   "metadata": {},
   "source": [
    "### Create AAPL df"
   ]
  },
  {
   "cell_type": "code",
   "execution_count": 189,
   "metadata": {},
   "outputs": [],
   "source": [
    "df = df['AAPL'].to_frame()\n",
    "df.index = pd.to_datetime(df.index)\n",
    "df.rename(columns={'AAPL': 'close'}, inplace=True)\n",
    "df.dropna(inplace=True)"
   ]
  },
  {
   "cell_type": "code",
   "execution_count": 190,
   "metadata": {},
   "outputs": [
    {
     "data": {
      "text/html": [
       "<div>\n",
       "<style scoped>\n",
       "    .dataframe tbody tr th:only-of-type {\n",
       "        vertical-align: middle;\n",
       "    }\n",
       "\n",
       "    .dataframe tbody tr th {\n",
       "        vertical-align: top;\n",
       "    }\n",
       "\n",
       "    .dataframe thead th {\n",
       "        text-align: right;\n",
       "    }\n",
       "</style>\n",
       "<table border=\"1\" class=\"dataframe\">\n",
       "  <thead>\n",
       "    <tr style=\"text-align: right;\">\n",
       "      <th></th>\n",
       "      <th>close</th>\n",
       "    </tr>\n",
       "  </thead>\n",
       "  <tbody>\n",
       "    <tr>\n",
       "      <th>2016-07-14</th>\n",
       "      <td>98.79</td>\n",
       "    </tr>\n",
       "    <tr>\n",
       "      <th>2016-07-15</th>\n",
       "      <td>98.76</td>\n",
       "    </tr>\n",
       "    <tr>\n",
       "      <th>2016-07-18</th>\n",
       "      <td>99.83</td>\n",
       "    </tr>\n",
       "    <tr>\n",
       "      <th>2016-07-19</th>\n",
       "      <td>99.87</td>\n",
       "    </tr>\n",
       "    <tr>\n",
       "      <th>2016-07-20</th>\n",
       "      <td>99.93</td>\n",
       "    </tr>\n",
       "  </tbody>\n",
       "</table>\n",
       "</div>"
      ],
      "text/plain": [
       "            close\n",
       "2016-07-14  98.79\n",
       "2016-07-15  98.76\n",
       "2016-07-18  99.83\n",
       "2016-07-19  99.87\n",
       "2016-07-20  99.93"
      ]
     },
     "execution_count": 190,
     "metadata": {},
     "output_type": "execute_result"
    }
   ],
   "source": [
    "df.head()"
   ]
  },
  {
   "cell_type": "code",
   "execution_count": 191,
   "metadata": {},
   "outputs": [],
   "source": [
    "short_window = 20\n",
    "long_window = 100\n",
    "\n",
    "# Return\n",
    "df[\"return\"] = df[\"close\"].pct_change()\n",
    "\n",
    "# Exponentially weighted moving average\n",
    "df[\"short_window_ma\"] = df[\"close\"].ewm(halflife=short_window).mean()\n",
    "df[\"long_window_ma\"] = df[\"close\"].ewm(halflife=long_window).mean()\n",
    "\n",
    "# Expoentially weighted volatility\n",
    "df[\"fast_vol\"] = df[\"return\"].ewm(halflife=short_window).std()\n",
    "df[\"slow_vol\"] = df[\"return\"].ewm(halflife=long_window).std()\n",
    "\n",
    "df.dropna(inplace=True)\n",
    "df.drop(columns=['return'], inplace=True)"
   ]
  },
  {
   "cell_type": "code",
   "execution_count": 244,
   "metadata": {},
   "outputs": [
    {
     "data": {
      "text/html": [
       "<div>\n",
       "<style scoped>\n",
       "    .dataframe tbody tr th:only-of-type {\n",
       "        vertical-align: middle;\n",
       "    }\n",
       "\n",
       "    .dataframe tbody tr th {\n",
       "        vertical-align: top;\n",
       "    }\n",
       "\n",
       "    .dataframe thead th {\n",
       "        text-align: right;\n",
       "    }\n",
       "</style>\n",
       "<table border=\"1\" class=\"dataframe\">\n",
       "  <thead>\n",
       "    <tr style=\"text-align: right;\">\n",
       "      <th></th>\n",
       "      <th>close</th>\n",
       "      <th>short_window_ma</th>\n",
       "      <th>long_window_ma</th>\n",
       "      <th>fast_vol</th>\n",
       "      <th>slow_vol</th>\n",
       "    </tr>\n",
       "  </thead>\n",
       "  <tbody>\n",
       "    <tr>\n",
       "      <th>2016-07-18</th>\n",
       "      <td>99.83</td>\n",
       "      <td>99.138752</td>\n",
       "      <td>99.129072</td>\n",
       "      <td>0.007876</td>\n",
       "      <td>0.007876</td>\n",
       "    </tr>\n",
       "    <tr>\n",
       "      <th>2016-07-19</th>\n",
       "      <td>99.87</td>\n",
       "      <td>99.331175</td>\n",
       "      <td>99.316235</td>\n",
       "      <td>0.006231</td>\n",
       "      <td>0.006236</td>\n",
       "    </tr>\n",
       "    <tr>\n",
       "      <th>2016-07-20</th>\n",
       "      <td>99.93</td>\n",
       "      <td>99.459382</td>\n",
       "      <td>99.440695</td>\n",
       "      <td>0.005276</td>\n",
       "      <td>0.005307</td>\n",
       "    </tr>\n",
       "    <tr>\n",
       "      <th>2016-07-21</th>\n",
       "      <td>99.42</td>\n",
       "      <td>99.452237</td>\n",
       "      <td>99.437186</td>\n",
       "      <td>0.005815</td>\n",
       "      <td>0.005824</td>\n",
       "    </tr>\n",
       "    <tr>\n",
       "      <th>2016-07-22</th>\n",
       "      <td>98.66</td>\n",
       "      <td>99.326960</td>\n",
       "      <td>99.323837</td>\n",
       "      <td>0.006353</td>\n",
       "      <td>0.006359</td>\n",
       "    </tr>\n",
       "    <tr>\n",
       "      <th>2016-07-25</th>\n",
       "      <td>97.32</td>\n",
       "      <td>99.044628</td>\n",
       "      <td>99.067239</td>\n",
       "      <td>0.007736</td>\n",
       "      <td>0.007707</td>\n",
       "    </tr>\n",
       "  </tbody>\n",
       "</table>\n",
       "</div>"
      ],
      "text/plain": [
       "            close  short_window_ma  long_window_ma  fast_vol  slow_vol\n",
       "2016-07-18  99.83        99.138752       99.129072  0.007876  0.007876\n",
       "2016-07-19  99.87        99.331175       99.316235  0.006231  0.006236\n",
       "2016-07-20  99.93        99.459382       99.440695  0.005276  0.005307\n",
       "2016-07-21  99.42        99.452237       99.437186  0.005815  0.005824\n",
       "2016-07-22  98.66        99.326960       99.323837  0.006353  0.006359\n",
       "2016-07-25  97.32        99.044628       99.067239  0.007736  0.007707"
      ]
     },
     "execution_count": 244,
     "metadata": {},
     "output_type": "execute_result"
    }
   ],
   "source": [
    "df.head(6)"
   ]
  },
  {
   "cell_type": "markdown",
   "metadata": {},
   "source": [
    "### Prep data for model fitting"
   ]
  },
  {
   "cell_type": "code",
   "execution_count": 192,
   "metadata": {},
   "outputs": [],
   "source": [
    "# Split data by time segments of size `window` days\n",
    "def window_data(df, window, feature_col_nums, target_col_num):\n",
    "    X = []\n",
    "    y = []\n",
    "    \n",
    "    for i in range(len(df) - window):\n",
    "        X_comp = df.iloc[i:(i+window), feature_col_nums]\n",
    "        y_comp = df.iloc[(i+window), target_col_num]\n",
    "        X.append(X_comp.to_numpy())\n",
    "        y.append(y_comp)\n",
    "    return np.array(X), np.array(y).reshape(-1, 1)"
   ]
  },
  {
   "cell_type": "code",
   "execution_count": 251,
   "metadata": {},
   "outputs": [],
   "source": [
    "window_size = 5 # Set to short_window?\n",
    "X, y = window_data(df, window_size, 0, 0)"
   ]
  },
  {
   "cell_type": "code",
   "execution_count": 252,
   "metadata": {},
   "outputs": [
    {
     "name": "stdout",
     "output_type": "stream",
     "text": [
      "[[9.98300000e+01 9.91387522e+01 9.91290725e+01 7.87576972e-03\n",
      "  7.87576972e-03]\n",
      " [9.98700000e+01 9.93311747e+01 9.93162347e+01 6.23074240e-03\n",
      "  6.23577734e-03]\n",
      " [9.99300000e+01 9.94593817e+01 9.94406953e+01 5.27599863e-03\n",
      "  5.30723578e-03]\n",
      " [9.94200000e+01 9.94522365e+01 9.94371861e+01 5.81528022e-03\n",
      "  5.82407516e-03]\n",
      " [9.86600000e+01 9.93269603e+01 9.93238375e+01 6.35267476e-03\n",
      "  6.35877051e-03]]\n",
      "[97.32]\n"
     ]
    }
   ],
   "source": [
    "print(X[0])\n",
    "print(y[0])"
   ]
  },
  {
   "cell_type": "code",
   "execution_count": 253,
   "metadata": {},
   "outputs": [],
   "source": [
    "# Train/test split\n",
    "train_size = 0.90\n",
    "split = int(len(X) * train_size)\n",
    "\n",
    "X_train = X[:split]\n",
    "X_test = X[split:]\n",
    "\n",
    "y_train = y[:split]\n",
    "y_test = y[split:]"
   ]
  },
  {
   "cell_type": "code",
   "execution_count": 254,
   "metadata": {},
   "outputs": [],
   "source": [
    "from sklearn.preprocessing import MinMaxScaler\n",
    "\n",
    "scaler = MinMaxScaler()"
   ]
  },
  {
   "cell_type": "code",
   "execution_count": 255,
   "metadata": {},
   "outputs": [],
   "source": [
    "# Since X is a list of arrays, need to call scaler on each sub array individually\n",
    "# for sub_array in X:\n",
    "#     scaler.fit(sub_array)\n",
    "\n",
    "# X_scaled = [scaler.transform(sub_array) for sub_array in X]\n",
    "\n",
    "# y_scaled = scaler.fit_transform(y)\n",
    "\n",
    "scaler.fit(X.reshape(-1, 1))\n",
    "# X_train_shape = X_train.shape\n",
    "X_train = scaler.transform(X_train.reshape(-1, 1))\n",
    "X_train = X_train.reshape((int(X_train.shape[0] / 25), 5, 5))\n",
    "X_test = scaler.transform(X_test.reshape(-1, 1))\n",
    "X_test = X_test.reshape((int(X_test.shape[0] / 25), 5, 5))"
   ]
  },
  {
   "cell_type": "code",
   "execution_count": 257,
   "metadata": {},
   "outputs": [
    {
     "name": "stdout",
     "output_type": "stream",
     "text": [
      "[[2.72473624e-01 2.70586849e-01 2.70560428e-01 7.09612831e-06\n",
      "  7.09612831e-06]\n",
      " [2.72582805e-01 2.71112070e-01 2.71071291e-01 2.60599264e-06\n",
      "  2.61973560e-06]\n",
      " [2.72746576e-01 2.71462014e-01 2.71411009e-01 0.00000000e+00\n",
      "  8.52624482e-08]\n",
      " [2.71354520e-01 2.71442511e-01 2.71401430e-01 1.47198013e-06\n",
      "  1.49598609e-06]\n",
      " [2.69280085e-01 2.71100567e-01 2.71092043e-01 2.93880951e-06\n",
      "  2.95544798e-06]]\n",
      "[[8.70320484e-01 7.91889136e-01 6.32603333e-01 2.98539549e-05\n",
      "  2.96380711e-05]\n",
      " [8.77744780e-01 7.94813694e-01 6.34300032e-01 2.91609861e-05\n",
      "  2.95065508e-05]\n",
      " [8.87652939e-01 7.97976140e-01 6.36053541e-01 2.85735340e-05\n",
      "  2.93990407e-05]\n",
      " [8.73541318e-01 8.00550167e-01 6.37697222e-01 2.90004423e-05\n",
      "  2.94486020e-05]\n",
      " [8.77635599e-01 8.03175980e-01 6.39357841e-01 2.82595167e-05\n",
      "  2.92994230e-05]]\n",
      "[0.26562253]\n",
      "[0.87236762]\n"
     ]
    }
   ],
   "source": [
    "print(X_train[0])\n",
    "print(X_test[0])\n",
    "print(y_train[0])\n",
    "print(y_test[0])"
   ]
  },
  {
   "cell_type": "code",
   "execution_count": 197,
   "metadata": {},
   "outputs": [
    {
     "data": {
      "text/plain": [
       "array([0.00240158])"
      ]
     },
     "execution_count": 197,
     "metadata": {},
     "output_type": "execute_result"
    }
   ],
   "source": [
    "y_train[0]"
   ]
  },
  {
   "cell_type": "code",
   "execution_count": 258,
   "metadata": {},
   "outputs": [],
   "source": [
    "# Turn train, test into numpy arrays\n",
    "X_train = np.array(X_train)\n",
    "X_test = np.array(X_test)"
   ]
  },
  {
   "cell_type": "code",
   "execution_count": 259,
   "metadata": {},
   "outputs": [],
   "source": [
    "from tensorflow.keras.models import Sequential\n",
    "from tensorflow.keras.layers import Dense, LSTM, Dropout"
   ]
  },
  {
   "cell_type": "code",
   "execution_count": 260,
   "metadata": {},
   "outputs": [],
   "source": [
    "# Construct model\n",
    "\n",
    "model = Sequential()\n",
    "\n",
    "num_inputs = window_size\n",
    "dropout_fraction = 0.2\n",
    "\n",
    "# Layer 1\n",
    "model.add(LSTM(\n",
    "    units=num_inputs,\n",
    "    return_sequences=True,\n",
    "    input_shape=(X_train.shape[1], 5)\n",
    "))\n",
    "model.add(Dropout(dropout_fraction))\n",
    "\n",
    "# Layer 2\n",
    "model.add(LSTM(\n",
    "    units=num_inputs,\n",
    "    return_sequences=True\n",
    "))\n",
    "model.add(Dropout(dropout_fraction))\n",
    "\n",
    "# Layer 3\n",
    "model.add(LSTM(\n",
    "    units=num_inputs\n",
    "))\n",
    "model.add(Dropout(dropout_fraction))\n",
    "\n",
    "# Output layer\n",
    "model.add(Dense(1))"
   ]
  },
  {
   "cell_type": "code",
   "execution_count": 261,
   "metadata": {},
   "outputs": [],
   "source": [
    "# Compile model\n",
    "model.compile(optimizer='adam', loss='mean_squared_error')"
   ]
  },
  {
   "cell_type": "code",
   "execution_count": 262,
   "metadata": {},
   "outputs": [
    {
     "name": "stdout",
     "output_type": "stream",
     "text": [
      "_________________________________________________________________\n",
      "Layer (type)                 Output Shape              Param #   \n",
      "=================================================================\n",
      "lstm_29 (LSTM)               (None, 5, 5)              220       \n",
      "_________________________________________________________________\n",
      "dropout_27 (Dropout)         (None, 5, 5)              0         \n",
      "_________________________________________________________________\n",
      "lstm_30 (LSTM)               (None, 5, 5)              220       \n",
      "_________________________________________________________________\n",
      "dropout_28 (Dropout)         (None, 5, 5)              0         \n",
      "_________________________________________________________________\n",
      "lstm_31 (LSTM)               (None, 5)                 220       \n",
      "_________________________________________________________________\n",
      "dropout_29 (Dropout)         (None, 5)                 0         \n",
      "_________________________________________________________________\n",
      "dense_9 (Dense)              (None, 1)                 6         \n",
      "=================================================================\n",
      "Total params: 666\n",
      "Trainable params: 666\n",
      "Non-trainable params: 0\n",
      "_________________________________________________________________\n"
     ]
    }
   ],
   "source": [
    "# Summary\n",
    "model.summary()"
   ]
  },
  {
   "cell_type": "code",
   "execution_count": 263,
   "metadata": {},
   "outputs": [
    {
     "name": "stdout",
     "output_type": "stream",
     "text": [
      "893/893 [==============================] - 32s 35ms/sample - loss: 0.0104\n"
     ]
    },
    {
     "data": {
      "text/plain": [
       "<tensorflow.python.keras.callbacks.History at 0x7ffe5713d710>"
      ]
     },
     "execution_count": 263,
     "metadata": {},
     "output_type": "execute_result"
    }
   ],
   "source": [
    "# Fit model\n",
    "model.fit(X_train, y_train, batch_size=1, epochs=1, shuffle=False, verbose=1)"
   ]
  },
  {
   "cell_type": "code",
   "execution_count": 264,
   "metadata": {},
   "outputs": [
    {
     "name": "stdout",
     "output_type": "stream",
     "text": [
      "100/100 [==============================] - 2s 24ms/sample - loss: 0.0101\n"
     ]
    },
    {
     "data": {
      "text/plain": [
       "0.010107453763484955"
      ]
     },
     "execution_count": 264,
     "metadata": {},
     "output_type": "execute_result"
    }
   ],
   "source": [
    "# Evaluate model\n",
    "model.evaluate(X_test, y_test)"
   ]
  },
  {
   "cell_type": "code",
   "execution_count": 265,
   "metadata": {},
   "outputs": [
    {
     "name": "stdout",
     "output_type": "stream",
     "text": [
      "X_test: [[8.70320484e-01 7.91889136e-01 6.32603333e-01 2.98539549e-05\n",
      "  2.96380711e-05]\n",
      " [8.77744780e-01 7.94813694e-01 6.34300032e-01 2.91609861e-05\n",
      "  2.95065508e-05]\n",
      " [8.87652939e-01 7.97976140e-01 6.36053541e-01 2.85735340e-05\n",
      "  2.93990407e-05]\n",
      " [8.73541318e-01 8.00550167e-01 6.37697222e-01 2.90004423e-05\n",
      "  2.94486020e-05]\n",
      " [8.77635599e-01 8.03175980e-01 6.39357841e-01 2.82595167e-05\n",
      "  2.92994230e-05]]\n",
      "y_test: [0.87236762]\n"
     ]
    }
   ],
   "source": [
    "print(f\"X_test: {X_test[0]}\")\n",
    "print(f\"y_test: {y_test[0]}\")"
   ]
  },
  {
   "cell_type": "code",
   "execution_count": 269,
   "metadata": {},
   "outputs": [],
   "source": [
    "predicted = model.predict(X_test)\n",
    "\n",
    "# Inverse scale\n",
    "real_prices = scaler_y.inverse_transform(y_test.reshape(-1, 1))\n",
    "predicted_prices = scaler_y.inverse_transform(predicted)\n",
    "\n",
    "predictions = pd.DataFrame({\n",
    "    'Real': real_prices.ravel(),\n",
    "    'Predicted': predicted_prices.ravel()\n",
    "})"
   ]
  },
  {
   "cell_type": "code",
   "execution_count": 270,
   "metadata": {},
   "outputs": [
    {
     "data": {
      "text/plain": [
       "(100, 5, 5)"
      ]
     },
     "execution_count": 270,
     "metadata": {},
     "output_type": "execute_result"
    }
   ],
   "source": [
    "X_test.shape"
   ]
  },
  {
   "cell_type": "code",
   "execution_count": 275,
   "metadata": {},
   "outputs": [
    {
     "data": {
      "text/plain": [
       "<matplotlib.axes._subplots.AxesSubplot at 0x7ffe3be66e90>"
      ]
     },
     "execution_count": 275,
     "metadata": {},
     "output_type": "execute_result"
    },
    {
     "data": {
      "image/png": "[encoded data removed]",
      "text/plain": [
       "<Figure size 864x576 with 1 Axes>"
      ]
     },
     "metadata": {
      "needs_background": "light"
     },
     "output_type": "display_data"
    }
   ],
   "source": [
    "predictions.plot(figsize=(12,8))"
   ]
  },
  {
   "cell_type": "code",
   "execution_count": 233,
   "metadata": {},
   "outputs": [
    {
     "data": {
      "text/plain": [
       "array([[200.57],\n",
       "       [210.52],\n",
       "       [209.17],\n",
       "       [211.78],\n",
       "       [208.6 ]])"
      ]
     },
     "execution_count": 233,
     "metadata": {},
     "output_type": "execute_result"
    }
   ],
   "source": [
    "scaler.inverse_transform(y_test.reshape(-1, 1))[:5]"
   ]
  },
  {
   "cell_type": "code",
   "execution_count": 235,
   "metadata": {},
   "outputs": [
    {
     "data": {
      "text/plain": [
       "array([[0.32345948],\n",
       "       [0.3234388 ],\n",
       "       [0.3234265 ],\n",
       "       [0.3234334 ],\n",
       "       [0.32345456]], dtype=float32)"
      ]
     },
     "execution_count": 235,
     "metadata": {},
     "output_type": "execute_result"
    }
   ],
   "source": [
    "predicted[:5]"
   ]
  },
  {
   "cell_type": "code",
   "execution_count": null,
   "metadata": {},
   "outputs": [],
   "source": []
  }
 ],
 "metadata": {
  "kernelspec": {
   "display_name": "Python (Viz)",
   "language": "python",
   "name": "viz"
  },
  "language_info": {
   "codemirror_mode": {
    "name": "ipython",
    "version": 3
   },
   "file_extension": ".py",
   "mimetype": "text/x-python",
   "name": "python",
   "nbconvert_exporter": "python",
   "pygments_lexer": "ipython3",
   "version": "3.7.7"
  }
 },
 "nbformat": 4,
 "nbformat_minor": 4
}
